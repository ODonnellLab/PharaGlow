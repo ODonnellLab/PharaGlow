{
 "cells": [
  {
   "cell_type": "markdown",
   "metadata": {},
   "source": [
    "# Run Pharaglow "
   ]
  },
  {
   "cell_type": "code",
   "execution_count": 12,
   "metadata": {},
   "outputs": [],
   "source": [
    "%matplotlib inline\n",
    "import numpy as np\n",
    "import pandas as pd\n",
    "# image io and analysis\n",
    "import json\n",
    "import pims\n",
    "import trackpy as tp\n",
    "# plotting\n",
    "import matplotlib  as mpl \n",
    "import matplotlib.pyplot as plt \n",
    "\n",
    "#our packages\n",
    "from pharaglow import tracking, run, features"
   ]
  },
  {
   "cell_type": "markdown",
   "metadata": {},
   "source": [
    "### Load data and create binary masks "
   ]
  },
  {
   "cell_type": "code",
   "execution_count": 13,
   "metadata": {},
   "outputs": [
    {
     "name": "stdout",
     "output_type": "stream",
     "text": [
      "Starting pharaglow analysis...\n"
     ]
    },
    {
     "name": "stderr",
     "output_type": "stream",
     "text": [
      "/home/scholz_la/.conda/envs/pumping/lib/python3.7/site-packages/pims/api.py:191: UserWarning: <class 'pims.tiff_stack.TiffStack_tifffile'> errored: [Errno 2] No such file or directory: '/media/scholz_la/hd2/Nicolina/Nicolina/20200109_NZ0017/*.tiff'\n",
      "  warn(message)\n",
      "/home/scholz_la/.conda/envs/pumping/lib/python3.7/site-packages/pims/api.py:191: UserWarning: <class 'pims.imageio_reader.ImageIOReader'> errored: No such file: '/media/scholz_la/hd2/Nicolina/Nicolina/20200109_NZ0017/*.tiff'\n",
      "  warn(message)\n",
      "/home/scholz_la/.conda/envs/pumping/lib/python3.7/site-packages/pims/api.py:191: UserWarning: <class 'pims.bioformats.BioformatsReader'> errored: The file \"/media/scholz_la/hd2/Nicolina/Nicolina/20200109_NZ0017/*.tiff\" does not exist.\n",
      "  warn(message)\n"
     ]
    },
    {
     "ename": "UnknownFormatError",
     "evalue": "All handlers returned exceptions:\n<class 'pims.tiff_stack.TiffStack_tifffile'> errored: [Errno 2] No such file or directory: '/media/scholz_la/hd2/Nicolina/Nicolina/20200109_NZ0017/*.tiff'\n<class 'pims.imageio_reader.ImageIOReader'> errored: No such file: '/media/scholz_la/hd2/Nicolina/Nicolina/20200109_NZ0017/*.tiff'\n<class 'pims.bioformats.BioformatsReader'> errored: The file \"/media/scholz_la/hd2/Nicolina/Nicolina/20200109_NZ0017/*.tiff\" does not exist.\n",
     "output_type": "error",
     "traceback": [
      "\u001b[0;31m---------------------------------------------------------------------------\u001b[0m",
      "\u001b[0;31mUnknownFormatError\u001b[0m                        Traceback (most recent call last)",
      "\u001b[0;32m<timed exec>\u001b[0m in \u001b[0;36m<module>\u001b[0;34m\u001b[0m\n",
      "\u001b[0;32m~/.conda/envs/pumping/lib/python3.7/site-packages/pims/api.py\u001b[0m in \u001b[0;36mopen\u001b[0;34m(sequence, **kwargs)\u001b[0m\n\u001b[1;32m    191\u001b[0m             \u001b[0mwarn\u001b[0m\u001b[0;34m(\u001b[0m\u001b[0mmessage\u001b[0m\u001b[0;34m)\u001b[0m\u001b[0;34m\u001b[0m\u001b[0;34m\u001b[0m\u001b[0m\n\u001b[1;32m    192\u001b[0m             \u001b[0mexceptions\u001b[0m \u001b[0;34m+=\u001b[0m \u001b[0mmessage\u001b[0m \u001b[0;34m+\u001b[0m \u001b[0;34m'\\n'\u001b[0m\u001b[0;34m\u001b[0m\u001b[0;34m\u001b[0m\u001b[0m\n\u001b[0;32m--> 193\u001b[0;31m     \u001b[0;32mraise\u001b[0m \u001b[0mUnknownFormatError\u001b[0m\u001b[0;34m(\u001b[0m\u001b[0;34m\"All handlers returned exceptions:\\n\"\u001b[0m \u001b[0;34m+\u001b[0m \u001b[0mexceptions\u001b[0m\u001b[0;34m)\u001b[0m\u001b[0;34m\u001b[0m\u001b[0;34m\u001b[0m\u001b[0m\n\u001b[0m\u001b[1;32m    194\u001b[0m \u001b[0;34m\u001b[0m\u001b[0m\n\u001b[1;32m    195\u001b[0m \u001b[0;34m\u001b[0m\u001b[0m\n",
      "\u001b[0;31mUnknownFormatError\u001b[0m: All handlers returned exceptions:\n<class 'pims.tiff_stack.TiffStack_tifffile'> errored: [Errno 2] No such file or directory: '/media/scholz_la/hd2/Nicolina/Nicolina/20200109_NZ0017/*.tiff'\n<class 'pims.imageio_reader.ImageIOReader'> errored: No such file: '/media/scholz_la/hd2/Nicolina/Nicolina/20200109_NZ0017/*.tiff'\n<class 'pims.bioformats.BioformatsReader'> errored: The file \"/media/scholz_la/hd2/Nicolina/Nicolina/20200109_NZ0017/*.tiff\" does not exist.\n"
     ]
    }
   ],
   "source": [
    "%%time\n",
    "# io\n",
    "fname = \"/media/scholz_la/hd2/Nicolina/Nicolina/20200109_NZ0017/*.tiff\"\n",
    "parameterfile = \"/media/scholz_la/hd2/Nicolina/Nicolina/pharaglow_parameters_mks.txt\"\n",
    "outfile = \"/media/scholz_la/hd2/Nicolina/Nicolina/20200109_NZ0017_{}_{}.json\"\n",
    "print('Starting pharaglow analysis...')\n",
    "rawframes = pims.open(fname)\n",
    "rawframes = rawframes[0:18000]\n",
    "#print('Analyzing', rawframes)\n",
    "print('Loading parameters from {}'.format(parameterfile.split('/')[-2:]))\n",
    "with open(parameterfile) as f:\n",
    "    param = json.load(f)\n"
   ]
  },
  {
   "cell_type": "code",
   "execution_count": null,
   "metadata": {},
   "outputs": [],
   "source": [
    "%%time\n",
    "# detecting objects\n",
    "print('Binarizing images')\n",
    "masks = tracking.calculateMask(rawframes, minSize = param['minSize'], bgWindow = 100, thresholdWindow = 100, smooth = 3, subtract = 1)\n"
   ]
  },
  {
   "cell_type": "markdown",
   "metadata": {},
   "source": [
    "### Make sure the thesholding worked otherwise change parameters"
   ]
  },
  {
   "cell_type": "code",
   "execution_count": 16,
   "metadata": {},
   "outputs": [
    {
     "data": {
      "text/plain": [
       "<matplotlib.image.AxesImage at 0x7f22a3c73ba8>"
      ]
     },
     "execution_count": 16,
     "metadata": {},
     "output_type": "execute_result"
    },
    {
     "data": {
      "image/png": "[encoded data removed]",
      "text/plain": [
       "<Figure size 864x792 with 1 Axes>"
      ]
     },
     "metadata": {
      "needs_background": "light"
     },
     "output_type": "display_data"
    }
   ],
   "source": [
    "t = 1010\n",
    "plt.figure(figsize=(12,11))\n",
    "# plt.subplot(121)\n",
    "# plt.imshow(rawframes[t])\n",
    "# plt.subplot(122)\n",
    "plt.imshow(masks[t])\n",
    "#plt.imshow(masks[t][ 250:750, 1800:2000])\n",
    "#plt.imshow(masks[t][1500:2000, 1000:2750])\n",
    "\n",
    "#np.sum(masks[t][500:750, 1000:1500])\n",
    "#print(np.sum(masks[t][ 350:750, 1600:2000]))\n",
    "\n",
    "#image = masks[t][ 350:750, 1600:2000]\n",
    "#labeled = tracking.refine(image, size = param['watershed'])\n",
    "#plt.imshow(labeled)"
   ]
  },
  {
   "cell_type": "markdown",
   "metadata": {},
   "source": [
    "### Detecting individual objects and tracking or use multiprocessing to speed up feature detection"
   ]
  },
  {
   "cell_type": "code",
   "execution_count": 17,
   "metadata": {},
   "outputs": [
    {
     "name": "stdout",
     "output_type": "stream",
     "text": [
      "Detecting features\n",
      "18000\n",
      "<multiprocessing.pool.Pool object at 0x7f22a39bd438> 257.8597369194031\n",
      "<multiprocessing.pool.Pool object at 0x7f22a39bd438> 258.0277044773102\n",
      "<multiprocessing.pool.Pool object at 0x7f22a39bd438> 258.0744950771332\n",
      "<multiprocessing.pool.Pool object at 0x7f22a39bd438> 258.64107871055603\n",
      "<multiprocessing.pool.Pool object at 0x7f22a39bd438> 258.72026443481445\n",
      "<multiprocessing.pool.Pool object at 0x7f22a39bd438> 259.895224571228\n",
      "<multiprocessing.pool.Pool object at 0x7f22a39bd438> 264.729127407074\n",
      "<multiprocessing.pool.Pool object at 0x7f22a39bd438> 265.40243220329285\n",
      "<multiprocessing.pool.Pool object at 0x7f22a39bd438> 266.5090470314026\n",
      "<multiprocessing.pool.Pool object at 0x7f22a39bd438> 266.5300507545471\n",
      "<multiprocessing.pool.Pool object at 0x7f22a39bd438> 266.64161252975464\n",
      "<multiprocessing.pool.Pool object at 0x7f22a39bd438> 266.6771717071533\n",
      "<multiprocessing.pool.Pool object at 0x7f22a39bd438> 266.8707137107849\n",
      "<multiprocessing.pool.Pool object at 0x7f22a39bd438> 267.02867102622986\n",
      "<multiprocessing.pool.Pool object at 0x7f22a39bd438> 267.5716004371643\n",
      "<multiprocessing.pool.Pool object at 0x7f22a39bd438> 267.62537813186646\n",
      "<multiprocessing.pool.Pool object at 0x7f22a39bd438> 276.6683566570282\n",
      "<multiprocessing.pool.Pool object at 0x7f22a39bd438> 277.2421805858612\n",
      "<multiprocessing.pool.Pool object at 0x7f22a39bd438> 277.294474363327\n",
      "<multiprocessing.pool.Pool object at 0x7f22a39bd438> 278.0475962162018\n",
      "<multiprocessing.pool.Pool object at 0x7f22a39bd438> 550.340518951416\n",
      "<multiprocessing.pool.Pool object at 0x7f22a39bd438> 556.433732509613\n",
      "<multiprocessing.pool.Pool object at 0x7f22a39bd438> 556.8618996143341\n",
      "<multiprocessing.pool.Pool object at 0x7f22a39bd438> 556.925940990448\n",
      "<multiprocessing.pool.Pool object at 0x7f22a39bd438> 557.2461755275726\n",
      "<multiprocessing.pool.Pool object at 0x7f22a39bd438> 557.6126103401184\n",
      "<multiprocessing.pool.Pool object at 0x7f22a39bd438> 559.5587222576141\n",
      "<multiprocessing.pool.Pool object at 0x7f22a39bd438> 562.4427301883698\n",
      "<multiprocessing.pool.Pool object at 0x7f22a39bd438> 563.7860202789307\n",
      "<multiprocessing.pool.Pool object at 0x7f22a39bd438> 563.8270597457886\n",
      "<multiprocessing.pool.Pool object at 0x7f22a39bd438> 564.8293335437775\n",
      "<multiprocessing.pool.Pool object at 0x7f22a39bd438> 566.15412068367\n",
      "<multiprocessing.pool.Pool object at 0x7f22a39bd438> 566.3716604709625\n",
      "<multiprocessing.pool.Pool object at 0x7f22a39bd438> 569.2282183170319\n",
      "<multiprocessing.pool.Pool object at 0x7f22a39bd438> 574.9242525100708\n",
      "<multiprocessing.pool.Pool object at 0x7f22a39bd438> 575.0030093193054\n",
      "<multiprocessing.pool.Pool object at 0x7f22a39bd438> 575.51811170578\n",
      "<multiprocessing.pool.Pool object at 0x7f22a39bd438> 575.8708004951477\n",
      "<multiprocessing.pool.Pool object at 0x7f22a39bd438> 576.2841017246246\n",
      "<multiprocessing.pool.Pool object at 0x7f22a39bd438> 576.8970832824707\n",
      "<multiprocessing.pool.Pool object at 0x7f22a39bd438> 799.1513295173645\n",
      "<multiprocessing.pool.Pool object at 0x7f22a39bd438> 803.4103062152863\n",
      "<multiprocessing.pool.Pool object at 0x7f22a39bd438> 805.944084405899\n",
      "<multiprocessing.pool.Pool object at 0x7f22a39bd438> 807.1233582496643\n",
      "<multiprocessing.pool.Pool object at 0x7f22a39bd438> 807.4891440868378\n",
      "<multiprocessing.pool.Pool object at 0x7f22a39bd438> 808.4763767719269\n",
      "<multiprocessing.pool.Pool object at 0x7f22a39bd438> 808.8077986240387\n",
      "<multiprocessing.pool.Pool object at 0x7f22a39bd438> 810.1332535743713\n",
      "<multiprocessing.pool.Pool object at 0x7f22a39bd438> 813.3444435596466\n",
      "<multiprocessing.pool.Pool object at 0x7f22a39bd438> 815.390129327774\n",
      "<multiprocessing.pool.Pool object at 0x7f22a39bd438> 815.4670054912567\n",
      "<multiprocessing.pool.Pool object at 0x7f22a39bd438> 816.3022553920746\n",
      "<multiprocessing.pool.Pool object at 0x7f22a39bd438> 816.5532848834991\n",
      "<multiprocessing.pool.Pool object at 0x7f22a39bd438> 817.4643650054932\n",
      "<multiprocessing.pool.Pool object at 0x7f22a39bd438> 817.5876004695892\n",
      "<multiprocessing.pool.Pool object at 0x7f22a39bd438> 818.2031664848328\n",
      "<multiprocessing.pool.Pool object at 0x7f22a39bd438> 818.8029446601868\n",
      "<multiprocessing.pool.Pool object at 0x7f22a39bd438> 824.4127004146576\n",
      "<multiprocessing.pool.Pool object at 0x7f22a39bd438> 825.708343744278\n",
      "<multiprocessing.pool.Pool object at 0x7f22a39bd438> 827.8189949989319\n",
      "<multiprocessing.pool.Pool object at 0x7f22a39bd438> 1063.5167956352234\n",
      "<multiprocessing.pool.Pool object at 0x7f22a39bd438> 1064.2010962963104\n",
      "<multiprocessing.pool.Pool object at 0x7f22a39bd438> 1067.0739562511444\n",
      "<multiprocessing.pool.Pool object at 0x7f22a39bd438> 1072.01216173172\n",
      "<multiprocessing.pool.Pool object at 0x7f22a39bd438> 1073.1833415031433\n",
      "<multiprocessing.pool.Pool object at 0x7f22a39bd438> 1074.3084466457367\n",
      "<multiprocessing.pool.Pool object at 0x7f22a39bd438> 1075.0990061759949\n",
      "<multiprocessing.pool.Pool object at 0x7f22a39bd438> 1075.1057636737823\n",
      "<multiprocessing.pool.Pool object at 0x7f22a39bd438> 1075.7617726325989\n",
      "<multiprocessing.pool.Pool object at 0x7f22a39bd438> 1075.7646803855896\n",
      "<multiprocessing.pool.Pool object at 0x7f22a39bd438> 1075.81125831604\n",
      "<multiprocessing.pool.Pool object at 0x7f22a39bd438> 1075.875474691391\n",
      "<multiprocessing.pool.Pool object at 0x7f22a39bd438> 1075.895625114441\n",
      "<multiprocessing.pool.Pool object at 0x7f22a39bd438> 1075.9575953483582\n",
      "<multiprocessing.pool.Pool object at 0x7f22a39bd438> 1076.839434146881\n",
      "<multiprocessing.pool.Pool object at 0x7f22a39bd438> 1077.9833636283875\n",
      "<multiprocessing.pool.Pool object at 0x7f22a39bd438> 1081.3600616455078\n",
      "<multiprocessing.pool.Pool object at 0x7f22a39bd438> 1082.4546086788177\n",
      "<multiprocessing.pool.Pool object at 0x7f22a39bd438> 1082.7354669570923\n",
      "<multiprocessing.pool.Pool object at 0x7f22a39bd438> 1086.0249953269958\n",
      "<multiprocessing.pool.Pool object at 0x7f22a39bd438> 1185.7011172771454\n",
      "<multiprocessing.pool.Pool object at 0x7f22a39bd438> 1190.153225660324\n",
      "<multiprocessing.pool.Pool object at 0x7f22a39bd438> 1192.928430557251\n",
      "<multiprocessing.pool.Pool object at 0x7f22a39bd438> 1193.7668342590332\n",
      "<multiprocessing.pool.Pool object at 0x7f22a39bd438> 1194.0763673782349\n",
      "<multiprocessing.pool.Pool object at 0x7f22a39bd438> 1194.7880086898804\n",
      "<multiprocessing.pool.Pool object at 0x7f22a39bd438> 1196.8281545639038\n",
      "<multiprocessing.pool.Pool object at 0x7f22a39bd438> 1196.8358690738678\n",
      "<multiprocessing.pool.Pool object at 0x7f22a39bd438> 1197.0503947734833\n",
      "<multiprocessing.pool.Pool object at 0x7f22a39bd438> 1197.3680005073547\n",
      "<multiprocessing.pool.Pool object at 0x7f22a39bd438> 1197.3873944282532\n",
      "<multiprocessing.pool.Pool object at 0x7f22a39bd438> 1197.6040823459625\n",
      "<multiprocessing.pool.Pool object at 0x7f22a39bd438> 1198.9101419448853\n",
      "<multiprocessing.pool.Pool object at 0x7f22a39bd438> 1199.8114092350006\n",
      "<multiprocessing.pool.Pool object at 0x7f22a39bd438> 1201.557787656784\n",
      "<multiprocessing.pool.Pool object at 0x7f22a39bd438> 1201.7840495109558\n",
      "<multiprocessing.pool.Pool object at 0x7f22a39bd438> 1202.723470211029\n",
      "<multiprocessing.pool.Pool object at 0x7f22a39bd438> 1206.4673635959625\n",
      "<multiprocessing.pool.Pool object at 0x7f22a39bd438> 1209.3031947612762\n",
      "<multiprocessing.pool.Pool object at 0x7f22a39bd438> 1213.1939244270325\n",
      "<multiprocessing.pool.Pool object at 0x7f22a39bd438> 1308.676486492157\n",
      "<multiprocessing.pool.Pool object at 0x7f22a39bd438> 1313.440732717514\n",
      "<multiprocessing.pool.Pool object at 0x7f22a39bd438> 1318.2608873844147\n",
      "<multiprocessing.pool.Pool object at 0x7f22a39bd438> 1319.216237783432\n",
      "<multiprocessing.pool.Pool object at 0x7f22a39bd438> 1319.3151471614838\n",
      "<multiprocessing.pool.Pool object at 0x7f22a39bd438> 1320.8072545528412\n",
      "<multiprocessing.pool.Pool object at 0x7f22a39bd438> 1323.6371610164642\n",
      "<multiprocessing.pool.Pool object at 0x7f22a39bd438> 1324.7440378665924\n",
      "<multiprocessing.pool.Pool object at 0x7f22a39bd438> 1324.9600858688354\n",
      "<multiprocessing.pool.Pool object at 0x7f22a39bd438> 1325.1976253986359\n",
      "<multiprocessing.pool.Pool object at 0x7f22a39bd438> 1325.3796348571777\n",
      "<multiprocessing.pool.Pool object at 0x7f22a39bd438> 1326.0214264392853\n",
      "<multiprocessing.pool.Pool object at 0x7f22a39bd438> 1326.733603477478\n",
      "<multiprocessing.pool.Pool object at 0x7f22a39bd438> 1328.4845235347748\n",
      "<multiprocessing.pool.Pool object at 0x7f22a39bd438> 1329.1566376686096\n",
      "<multiprocessing.pool.Pool object at 0x7f22a39bd438> 1329.164677619934\n"
     ]
    },
    {
     "name": "stdout",
     "output_type": "stream",
     "text": [
      "<multiprocessing.pool.Pool object at 0x7f22a39bd438> 1329.6104233264923\n",
      "<multiprocessing.pool.Pool object at 0x7f22a39bd438> 1335.5416486263275\n",
      "<multiprocessing.pool.Pool object at 0x7f22a39bd438> 1339.5830421447754\n",
      "<multiprocessing.pool.Pool object at 0x7f22a39bd438> 1345.8812718391418\n",
      "<multiprocessing.pool.Pool object at 0x7f22a39bd438> 1433.8503637313843\n",
      "<multiprocessing.pool.Pool object at 0x7f22a39bd438> 1440.5241222381592\n",
      "<multiprocessing.pool.Pool object at 0x7f22a39bd438> 1441.0769860744476\n",
      "<multiprocessing.pool.Pool object at 0x7f22a39bd438> 1446.8037993907928\n",
      "<multiprocessing.pool.Pool object at 0x7f22a39bd438> 1450.177907705307\n",
      "<multiprocessing.pool.Pool object at 0x7f22a39bd438> 1451.3569631576538\n",
      "<multiprocessing.pool.Pool object at 0x7f22a39bd438> 1451.8595442771912\n",
      "<multiprocessing.pool.Pool object at 0x7f22a39bd438> 1452.024647951126\n",
      "<multiprocessing.pool.Pool object at 0x7f22a39bd438> 1452.058137178421\n",
      "<multiprocessing.pool.Pool object at 0x7f22a39bd438> 1453.0052433013916\n",
      "<multiprocessing.pool.Pool object at 0x7f22a39bd438> 1453.958382844925\n",
      "<multiprocessing.pool.Pool object at 0x7f22a39bd438> 1455.6799774169922\n",
      "<multiprocessing.pool.Pool object at 0x7f22a39bd438> 1456.054433107376\n",
      "<multiprocessing.pool.Pool object at 0x7f22a39bd438> 1456.6626405715942\n",
      "<multiprocessing.pool.Pool object at 0x7f22a39bd438> 1456.743036031723\n",
      "<multiprocessing.pool.Pool object at 0x7f22a39bd438> 1459.756186246872\n",
      "<multiprocessing.pool.Pool object at 0x7f22a39bd438> 1460.28568983078\n",
      "<multiprocessing.pool.Pool object at 0x7f22a39bd438> 1462.7536120414734\n",
      "<multiprocessing.pool.Pool object at 0x7f22a39bd438> 1463.7736687660217\n",
      "<multiprocessing.pool.Pool object at 0x7f22a39bd438> 1472.6944081783295\n",
      "<multiprocessing.pool.Pool object at 0x7f22a39bd438> 1566.9219114780426\n",
      "<multiprocessing.pool.Pool object at 0x7f22a39bd438> 1568.0784170627594\n",
      "<multiprocessing.pool.Pool object at 0x7f22a39bd438> 1575.0474302768707\n",
      "<multiprocessing.pool.Pool object at 0x7f22a39bd438> 1578.4723834991455\n",
      "<multiprocessing.pool.Pool object at 0x7f22a39bd438> 1582.748672246933\n",
      "<multiprocessing.pool.Pool object at 0x7f22a39bd438> 1583.9907360076904\n",
      "<multiprocessing.pool.Pool object at 0x7f22a39bd438> 1584.3740541934967\n",
      "<multiprocessing.pool.Pool object at 0x7f22a39bd438> 1586.8225967884064\n",
      "<multiprocessing.pool.Pool object at 0x7f22a39bd438> 1587.4848742485046\n",
      "<multiprocessing.pool.Pool object at 0x7f22a39bd438> 1589.4253146648407\n",
      "<multiprocessing.pool.Pool object at 0x7f22a39bd438> 1589.822050333023\n",
      "<multiprocessing.pool.Pool object at 0x7f22a39bd438> 1589.8617551326752\n",
      "<multiprocessing.pool.Pool object at 0x7f22a39bd438> 1589.9483294487\n",
      "<multiprocessing.pool.Pool object at 0x7f22a39bd438> 1590.144716501236\n",
      "<multiprocessing.pool.Pool object at 0x7f22a39bd438> 1590.1499772071838\n",
      "<multiprocessing.pool.Pool object at 0x7f22a39bd438> 1590.1647458076477\n",
      "<multiprocessing.pool.Pool object at 0x7f22a39bd438> 1590.6742084026337\n",
      "<multiprocessing.pool.Pool object at 0x7f22a39bd438> 1591.816618680954\n",
      "<multiprocessing.pool.Pool object at 0x7f22a39bd438> 1595.3804605007172\n",
      "<multiprocessing.pool.Pool object at 0x7f22a39bd438> 1601.4724929332733\n",
      "<multiprocessing.pool.Pool object at 0x7f22a39bd438> 1699.8377141952515\n",
      "<multiprocessing.pool.Pool object at 0x7f22a39bd438> 1705.1374258995056\n",
      "<multiprocessing.pool.Pool object at 0x7f22a39bd438> 1707.4195325374603\n",
      "<multiprocessing.pool.Pool object at 0x7f22a39bd438> 1716.5393970012665\n",
      "<multiprocessing.pool.Pool object at 0x7f22a39bd438> 1717.6792747974396\n",
      "<multiprocessing.pool.Pool object at 0x7f22a39bd438> 1718.0485367774963\n",
      "<multiprocessing.pool.Pool object at 0x7f22a39bd438> 1720.237811088562\n",
      "<multiprocessing.pool.Pool object at 0x7f22a39bd438> 1720.676027059555\n",
      "<multiprocessing.pool.Pool object at 0x7f22a39bd438> 1721.9025795459747\n",
      "<multiprocessing.pool.Pool object at 0x7f22a39bd438> 1722.3333015441895\n",
      "<multiprocessing.pool.Pool object at 0x7f22a39bd438> 1723.2486250400543\n",
      "<multiprocessing.pool.Pool object at 0x7f22a39bd438> 1723.3587629795074\n",
      "<multiprocessing.pool.Pool object at 0x7f22a39bd438> 1723.4337038993835\n",
      "<multiprocessing.pool.Pool object at 0x7f22a39bd438> 1723.5288848876953\n",
      "<multiprocessing.pool.Pool object at 0x7f22a39bd438> 1724.2022166252136\n",
      "<multiprocessing.pool.Pool object at 0x7f22a39bd438> 1724.2434210777283\n",
      "<multiprocessing.pool.Pool object at 0x7f22a39bd438> 1724.4872388839722\n",
      "<multiprocessing.pool.Pool object at 0x7f22a39bd438> 1727.5010604858398\n",
      "<multiprocessing.pool.Pool object at 0x7f22a39bd438> 1729.6012814044952\n",
      "<multiprocessing.pool.Pool object at 0x7f22a39bd438> 1733.4044675827026\n",
      "<multiprocessing.pool.Pool object at 0x7f22a39bd438> 1833.1197662353516\n",
      "<multiprocessing.pool.Pool object at 0x7f22a39bd438> 1836.1012527942657\n",
      "<multiprocessing.pool.Pool object at 0x7f22a39bd438> 1836.912560224533\n",
      "<multiprocessing.pool.Pool object at 0x7f22a39bd438> 1845.1967236995697\n",
      "<multiprocessing.pool.Pool object at 0x7f22a39bd438> 1846.8608856201172\n",
      "<multiprocessing.pool.Pool object at 0x7f22a39bd438> 1848.5034441947937\n",
      "<multiprocessing.pool.Pool object at 0x7f22a39bd438> 1849.371239900589\n",
      "<multiprocessing.pool.Pool object at 0x7f22a39bd438> 1850.5597326755524\n",
      "<multiprocessing.pool.Pool object at 0x7f22a39bd438> 1851.2596333026886\n",
      "<multiprocessing.pool.Pool object at 0x7f22a39bd438> 1852.3680953979492\n",
      "<multiprocessing.pool.Pool object at 0x7f22a39bd438> 1853.9718437194824\n",
      "<multiprocessing.pool.Pool object at 0x7f22a39bd438> 1854.0152819156647\n",
      "<multiprocessing.pool.Pool object at 0x7f22a39bd438> 1855.011747598648\n",
      "<multiprocessing.pool.Pool object at 0x7f22a39bd438> 1855.3617134094238\n",
      "<multiprocessing.pool.Pool object at 0x7f22a39bd438> 1855.9322626590729\n",
      "<multiprocessing.pool.Pool object at 0x7f22a39bd438> 1856.6672339439392\n",
      "<multiprocessing.pool.Pool object at 0x7f22a39bd438> 1857.7314126491547\n",
      "<multiprocessing.pool.Pool object at 0x7f22a39bd438> 1858.0514149665833\n",
      "<multiprocessing.pool.Pool object at 0x7f22a39bd438> 1863.889550447464\n",
      "<multiprocessing.pool.Pool object at 0x7f22a39bd438> 1864.5188241004944\n",
      "<multiprocessing.pool.Pool object at 0x7f22a39bd438> 1967.6677911281586\n",
      "<multiprocessing.pool.Pool object at 0x7f22a39bd438> 1972.5833661556244\n",
      "<multiprocessing.pool.Pool object at 0x7f22a39bd438> 1975.8473987579346\n",
      "<multiprocessing.pool.Pool object at 0x7f22a39bd438> 1979.6914308071136\n",
      "<multiprocessing.pool.Pool object at 0x7f22a39bd438> 1987.8982148170471\n",
      "<multiprocessing.pool.Pool object at 0x7f22a39bd438> 1989.6301023960114\n",
      "<multiprocessing.pool.Pool object at 0x7f22a39bd438> 1990.302767753601\n",
      "<multiprocessing.pool.Pool object at 0x7f22a39bd438> 1990.4326269626617\n",
      "<multiprocessing.pool.Pool object at 0x7f22a39bd438> 1990.8260576725006\n",
      "<multiprocessing.pool.Pool object at 0x7f22a39bd438> 1991.2444744110107\n",
      "<multiprocessing.pool.Pool object at 0x7f22a39bd438> 1991.5112042427063\n",
      "<multiprocessing.pool.Pool object at 0x7f22a39bd438> 1994.4082407951355\n",
      "<multiprocessing.pool.Pool object at 0x7f22a39bd438> 1994.4811344146729\n",
      "<multiprocessing.pool.Pool object at 0x7f22a39bd438> 1999.1648864746094\n",
      "<multiprocessing.pool.Pool object at 0x7f22a39bd438> 1999.3535616397858\n",
      "<multiprocessing.pool.Pool object at 0x7f22a39bd438> 1999.548501253128\n",
      "<multiprocessing.pool.Pool object at 0x7f22a39bd438> 1999.5932660102844\n",
      "<multiprocessing.pool.Pool object at 0x7f22a39bd438> 1999.6058707237244\n",
      "<multiprocessing.pool.Pool object at 0x7f22a39bd438> 2007.8795483112335\n",
      "<multiprocessing.pool.Pool object at 0x7f22a39bd438> 2016.3387954235077\n",
      "<multiprocessing.pool.Pool object at 0x7f22a39bd438> 2152.893180847168\n",
      "<multiprocessing.pool.Pool object at 0x7f22a39bd438> 2169.643981695175\n",
      "<multiprocessing.pool.Pool object at 0x7f22a39bd438> 2170.361346244812\n",
      "<multiprocessing.pool.Pool object at 0x7f22a39bd438> 2171.7298245429993\n",
      "<multiprocessing.pool.Pool object at 0x7f22a39bd438> 2178.2890174388885\n",
      "<multiprocessing.pool.Pool object at 0x7f22a39bd438> 2178.794340133667\n",
      "<multiprocessing.pool.Pool object at 0x7f22a39bd438> 2179.6780054569244\n",
      "<multiprocessing.pool.Pool object at 0x7f22a39bd438> 2182.487233877182\n",
      "<multiprocessing.pool.Pool object at 0x7f22a39bd438> 2183.1751623153687\n",
      "<multiprocessing.pool.Pool object at 0x7f22a39bd438> 2184.6761622428894\n",
      "<multiprocessing.pool.Pool object at 0x7f22a39bd438> 2187.1766521930695\n",
      "<multiprocessing.pool.Pool object at 0x7f22a39bd438> 2187.239154815674\n"
     ]
    },
    {
     "name": "stdout",
     "output_type": "stream",
     "text": [
      "<multiprocessing.pool.Pool object at 0x7f22a39bd438> 2192.794103384018\n",
      "<multiprocessing.pool.Pool object at 0x7f22a39bd438> 2193.58034658432\n",
      "<multiprocessing.pool.Pool object at 0x7f22a39bd438> 2193.8973672389984\n",
      "<multiprocessing.pool.Pool object at 0x7f22a39bd438> 2193.908357858658\n",
      "<multiprocessing.pool.Pool object at 0x7f22a39bd438> 2194.1536469459534\n",
      "<multiprocessing.pool.Pool object at 0x7f22a39bd438> 2198.9356236457825\n",
      "<multiprocessing.pool.Pool object at 0x7f22a39bd438> 2202.553297996521\n",
      "<multiprocessing.pool.Pool object at 0x7f22a39bd438> 2211.268899202347\n",
      "<multiprocessing.pool.Pool object at 0x7f22a39bd438> 2342.390254497528\n",
      "<multiprocessing.pool.Pool object at 0x7f22a39bd438> 2354.6685678958893\n",
      "<multiprocessing.pool.Pool object at 0x7f22a39bd438> 2354.966293334961\n",
      "<multiprocessing.pool.Pool object at 0x7f22a39bd438> 2355.1011366844177\n",
      "<multiprocessing.pool.Pool object at 0x7f22a39bd438> 2360.439806699753\n",
      "<multiprocessing.pool.Pool object at 0x7f22a39bd438> 2360.6847434043884\n",
      "<multiprocessing.pool.Pool object at 0x7f22a39bd438> 2364.421612739563\n",
      "<multiprocessing.pool.Pool object at 0x7f22a39bd438> 2366.147404909134\n",
      "<multiprocessing.pool.Pool object at 0x7f22a39bd438> 2368.941857814789\n",
      "<multiprocessing.pool.Pool object at 0x7f22a39bd438> 2369.7898201942444\n",
      "<multiprocessing.pool.Pool object at 0x7f22a39bd438> 2370.19850564003\n",
      "<multiprocessing.pool.Pool object at 0x7f22a39bd438> 2371.7009313106537\n",
      "<multiprocessing.pool.Pool object at 0x7f22a39bd438> 2373.6890003681183\n",
      "<multiprocessing.pool.Pool object at 0x7f22a39bd438> 2375.7961807250977\n",
      "<multiprocessing.pool.Pool object at 0x7f22a39bd438> 2376.0507316589355\n",
      "<multiprocessing.pool.Pool object at 0x7f22a39bd438> 2378.3758687973022\n",
      "<multiprocessing.pool.Pool object at 0x7f22a39bd438> 2378.993485689163\n",
      "<multiprocessing.pool.Pool object at 0x7f22a39bd438> 2379.644960641861\n",
      "<multiprocessing.pool.Pool object at 0x7f22a39bd438> 2398.6307327747345\n",
      "<multiprocessing.pool.Pool object at 0x7f22a39bd438> 2405.394889831543\n",
      "<multiprocessing.pool.Pool object at 0x7f22a39bd438> 2536.911608695984\n",
      "<multiprocessing.pool.Pool object at 0x7f22a39bd438> 2547.8057832717896\n",
      "<multiprocessing.pool.Pool object at 0x7f22a39bd438> 2548.3245644569397\n",
      "<multiprocessing.pool.Pool object at 0x7f22a39bd438> 2548.384307384491\n",
      "<multiprocessing.pool.Pool object at 0x7f22a39bd438> 2551.085620164871\n",
      "<multiprocessing.pool.Pool object at 0x7f22a39bd438> 2552.0962965488434\n",
      "<multiprocessing.pool.Pool object at 0x7f22a39bd438> 2554.2943484783173\n",
      "<multiprocessing.pool.Pool object at 0x7f22a39bd438> 2556.9719953536987\n",
      "<multiprocessing.pool.Pool object at 0x7f22a39bd438> 2561.8892920017242\n",
      "<multiprocessing.pool.Pool object at 0x7f22a39bd438> 2562.802101135254\n",
      "<multiprocessing.pool.Pool object at 0x7f22a39bd438> 2563.5362000465393\n",
      "<multiprocessing.pool.Pool object at 0x7f22a39bd438> 2563.8840153217316\n",
      "<multiprocessing.pool.Pool object at 0x7f22a39bd438> 2566.879734992981\n",
      "<multiprocessing.pool.Pool object at 0x7f22a39bd438> 2569.4073843955994\n",
      "<multiprocessing.pool.Pool object at 0x7f22a39bd438> 2569.651558160782\n",
      "<multiprocessing.pool.Pool object at 0x7f22a39bd438> 2570.2215943336487\n",
      "<multiprocessing.pool.Pool object at 0x7f22a39bd438> 2572.5568091869354\n",
      "<multiprocessing.pool.Pool object at 0x7f22a39bd438> 2572.5866084098816\n",
      "<multiprocessing.pool.Pool object at 0x7f22a39bd438> 2588.792049884796\n",
      "<multiprocessing.pool.Pool object at 0x7f22a39bd438> 2596.299621105194\n",
      "<multiprocessing.pool.Pool object at 0x7f22a39bd438> 2726.120935201645\n",
      "<multiprocessing.pool.Pool object at 0x7f22a39bd438> 2737.0684399604797\n",
      "<multiprocessing.pool.Pool object at 0x7f22a39bd438> 2737.8816747665405\n",
      "<multiprocessing.pool.Pool object at 0x7f22a39bd438> 2739.0657370090485\n",
      "<multiprocessing.pool.Pool object at 0x7f22a39bd438> 2743.4378168582916\n",
      "<multiprocessing.pool.Pool object at 0x7f22a39bd438> 2744.6971728801727\n",
      "<multiprocessing.pool.Pool object at 0x7f22a39bd438> 2746.0189270973206\n",
      "<multiprocessing.pool.Pool object at 0x7f22a39bd438> 2751.4143822193146\n",
      "<multiprocessing.pool.Pool object at 0x7f22a39bd438> 2752.6657156944275\n",
      "<multiprocessing.pool.Pool object at 0x7f22a39bd438> 2754.7105691432953\n",
      "<multiprocessing.pool.Pool object at 0x7f22a39bd438> 2758.1540219783783\n",
      "<multiprocessing.pool.Pool object at 0x7f22a39bd438> 2760.0967557430267\n",
      "<multiprocessing.pool.Pool object at 0x7f22a39bd438> 2760.5073335170746\n",
      "<multiprocessing.pool.Pool object at 0x7f22a39bd438> 2761.905747652054\n",
      "<multiprocessing.pool.Pool object at 0x7f22a39bd438> 2762.727378129959\n",
      "<multiprocessing.pool.Pool object at 0x7f22a39bd438> 2768.329757452011\n",
      "<multiprocessing.pool.Pool object at 0x7f22a39bd438> 2771.504293203354\n",
      "<multiprocessing.pool.Pool object at 0x7f22a39bd438> 2772.0137774944305\n",
      "<multiprocessing.pool.Pool object at 0x7f22a39bd438> 2777.9193840026855\n",
      "<multiprocessing.pool.Pool object at 0x7f22a39bd438> 2789.6910412311554\n",
      "<multiprocessing.pool.Pool object at 0x7f22a39bd438> 2931.1866261959076\n",
      "<multiprocessing.pool.Pool object at 0x7f22a39bd438> 2931.195373773575\n",
      "<multiprocessing.pool.Pool object at 0x7f22a39bd438> 2931.4746186733246\n",
      "<multiprocessing.pool.Pool object at 0x7f22a39bd438> 2939.2924313545227\n",
      "<multiprocessing.pool.Pool object at 0x7f22a39bd438> 2939.8612942695618\n",
      "<multiprocessing.pool.Pool object at 0x7f22a39bd438> 2943.7536795139313\n",
      "<multiprocessing.pool.Pool object at 0x7f22a39bd438> 2947.416555404663\n",
      "<multiprocessing.pool.Pool object at 0x7f22a39bd438> 2948.9875469207764\n",
      "<multiprocessing.pool.Pool object at 0x7f22a39bd438> 2950.210585832596\n",
      "<multiprocessing.pool.Pool object at 0x7f22a39bd438> 2950.274797439575\n",
      "<multiprocessing.pool.Pool object at 0x7f22a39bd438> 2955.894995689392\n",
      "<multiprocessing.pool.Pool object at 0x7f22a39bd438> 2959.1590468883514\n",
      "<multiprocessing.pool.Pool object at 0x7f22a39bd438> 2959.716309785843\n",
      "<multiprocessing.pool.Pool object at 0x7f22a39bd438> 2963.2126302719116\n",
      "<multiprocessing.pool.Pool object at 0x7f22a39bd438> 2968.9068677425385\n",
      "<multiprocessing.pool.Pool object at 0x7f22a39bd438> 2969.204381942749\n",
      "<multiprocessing.pool.Pool object at 0x7f22a39bd438> 2969.5757925510406\n",
      "<multiprocessing.pool.Pool object at 0x7f22a39bd438> 2981.7998762130737\n",
      "<multiprocessing.pool.Pool object at 0x7f22a39bd438> 2983.5566959381104\n",
      "<multiprocessing.pool.Pool object at 0x7f22a39bd438> 2991.91175031662\n",
      "<multiprocessing.pool.Pool object at 0x7f22a39bd438> 3122.9333035945892\n",
      "<multiprocessing.pool.Pool object at 0x7f22a39bd438> 3133.9083664417267\n",
      "<multiprocessing.pool.Pool object at 0x7f22a39bd438> 3134.797958612442\n",
      "<multiprocessing.pool.Pool object at 0x7f22a39bd438> 3139.4563999176025\n",
      "<multiprocessing.pool.Pool object at 0x7f22a39bd438> 3145.158848285675\n",
      "<multiprocessing.pool.Pool object at 0x7f22a39bd438> 3152.5446758270264\n",
      "<multiprocessing.pool.Pool object at 0x7f22a39bd438> 3152.7244348526\n",
      "<multiprocessing.pool.Pool object at 0x7f22a39bd438> 3154.347995996475\n",
      "<multiprocessing.pool.Pool object at 0x7f22a39bd438> 3158.965238571167\n",
      "<multiprocessing.pool.Pool object at 0x7f22a39bd438> 3160.205319881439\n",
      "<multiprocessing.pool.Pool object at 0x7f22a39bd438> 3162.0029876232147\n",
      "<multiprocessing.pool.Pool object at 0x7f22a39bd438> 3162.1971955299377\n",
      "<multiprocessing.pool.Pool object at 0x7f22a39bd438> 3162.530396938324\n",
      "<multiprocessing.pool.Pool object at 0x7f22a39bd438> 3170.47971868515\n",
      "<multiprocessing.pool.Pool object at 0x7f22a39bd438> 3173.522165775299\n",
      "<multiprocessing.pool.Pool object at 0x7f22a39bd438> 3179.4299268722534\n",
      "<multiprocessing.pool.Pool object at 0x7f22a39bd438> 3180.268907546997\n",
      "<multiprocessing.pool.Pool object at 0x7f22a39bd438> 3180.3209760189056\n",
      "<multiprocessing.pool.Pool object at 0x7f22a39bd438> 3188.0066318511963\n",
      "<multiprocessing.pool.Pool object at 0x7f22a39bd438> 3200.836315393448\n",
      "<multiprocessing.pool.Pool object at 0x7f22a39bd438> 3338.1082048416138\n",
      "<multiprocessing.pool.Pool object at 0x7f22a39bd438> 3345.65993142128\n",
      "<multiprocessing.pool.Pool object at 0x7f22a39bd438> 3349.508590698242\n",
      "<multiprocessing.pool.Pool object at 0x7f22a39bd438> 3354.2240138053894\n",
      "<multiprocessing.pool.Pool object at 0x7f22a39bd438> 3358.8428184986115\n",
      "<multiprocessing.pool.Pool object at 0x7f22a39bd438> 3370.676859140396\n",
      "<multiprocessing.pool.Pool object at 0x7f22a39bd438> 3371.509123802185\n"
     ]
    },
    {
     "name": "stdout",
     "output_type": "stream",
     "text": [
      "<multiprocessing.pool.Pool object at 0x7f22a39bd438> 3372.4711694717407\n",
      "<multiprocessing.pool.Pool object at 0x7f22a39bd438> 3379.602998495102\n",
      "<multiprocessing.pool.Pool object at 0x7f22a39bd438> 3379.6562991142273\n",
      "<multiprocessing.pool.Pool object at 0x7f22a39bd438> 3381.5813636779785\n",
      "<multiprocessing.pool.Pool object at 0x7f22a39bd438> 3381.6205399036407\n",
      "<multiprocessing.pool.Pool object at 0x7f22a39bd438> 3381.970555305481\n",
      "<multiprocessing.pool.Pool object at 0x7f22a39bd438> 3385.0075163841248\n",
      "<multiprocessing.pool.Pool object at 0x7f22a39bd438> 3393.0435316562653\n",
      "<multiprocessing.pool.Pool object at 0x7f22a39bd438> 3398.8177111148834\n",
      "<multiprocessing.pool.Pool object at 0x7f22a39bd438> 3399.603692293167\n",
      "<multiprocessing.pool.Pool object at 0x7f22a39bd438> 3399.738674402237\n",
      "<multiprocessing.pool.Pool object at 0x7f22a39bd438> 3405.3723442554474\n",
      "<multiprocessing.pool.Pool object at 0x7f22a39bd438> 3425.7482035160065\n",
      "<multiprocessing.pool.Pool object at 0x7f22a39bd438> 3564.4423871040344\n",
      "<multiprocessing.pool.Pool object at 0x7f22a39bd438> 3565.1128985881805\n",
      "<multiprocessing.pool.Pool object at 0x7f22a39bd438> 3572.1579790115356\n",
      "<multiprocessing.pool.Pool object at 0x7f22a39bd438> 3580.7862486839294\n",
      "<multiprocessing.pool.Pool object at 0x7f22a39bd438> 3585.2029008865356\n",
      "<multiprocessing.pool.Pool object at 0x7f22a39bd438> 3590.9144399166107\n",
      "<multiprocessing.pool.Pool object at 0x7f22a39bd438> 3594.534257888794\n",
      "<multiprocessing.pool.Pool object at 0x7f22a39bd438> 3602.225487947464\n",
      "<multiprocessing.pool.Pool object at 0x7f22a39bd438> 3603.8033208847046\n",
      "<multiprocessing.pool.Pool object at 0x7f22a39bd438> 3605.0769498348236\n",
      "<multiprocessing.pool.Pool object at 0x7f22a39bd438> 3606.956213235855\n",
      "<multiprocessing.pool.Pool object at 0x7f22a39bd438> 3607.2780437469482\n",
      "<multiprocessing.pool.Pool object at 0x7f22a39bd438> 3607.293401002884\n",
      "<multiprocessing.pool.Pool object at 0x7f22a39bd438> 3608.0522689819336\n",
      "<multiprocessing.pool.Pool object at 0x7f22a39bd438> 3621.3147835731506\n",
      "<multiprocessing.pool.Pool object at 0x7f22a39bd438> 3624.8637409210205\n",
      "<multiprocessing.pool.Pool object at 0x7f22a39bd438> 3626.6768231391907\n",
      "<multiprocessing.pool.Pool object at 0x7f22a39bd438> 3627.2530393600464\n",
      "<multiprocessing.pool.Pool object at 0x7f22a39bd438> 3627.5329279899597\n",
      "<multiprocessing.pool.Pool object at 0x7f22a39bd438> 3648.4499127864838\n",
      "<multiprocessing.pool.Pool object at 0x7f22a39bd438> 3792.2334475517273\n",
      "<multiprocessing.pool.Pool object at 0x7f22a39bd438> 3793.855726003647\n",
      "<multiprocessing.pool.Pool object at 0x7f22a39bd438> 3805.411458969116\n",
      "<multiprocessing.pool.Pool object at 0x7f22a39bd438> 3805.5838866233826\n",
      "<multiprocessing.pool.Pool object at 0x7f22a39bd438> 3813.0597739219666\n",
      "<multiprocessing.pool.Pool object at 0x7f22a39bd438> 3819.012047767639\n",
      "<multiprocessing.pool.Pool object at 0x7f22a39bd438> 3819.8569355010986\n",
      "<multiprocessing.pool.Pool object at 0x7f22a39bd438> 3822.4144706726074\n",
      "<multiprocessing.pool.Pool object at 0x7f22a39bd438> 3823.0271644592285\n",
      "<multiprocessing.pool.Pool object at 0x7f22a39bd438> 3823.075500011444\n",
      "<multiprocessing.pool.Pool object at 0x7f22a39bd438> 3823.1861255168915\n",
      "<multiprocessing.pool.Pool object at 0x7f22a39bd438> 3823.9377703666687\n",
      "<multiprocessing.pool.Pool object at 0x7f22a39bd438> 3824.528477191925\n",
      "<multiprocessing.pool.Pool object at 0x7f22a39bd438> 3825.452860355377\n",
      "<multiprocessing.pool.Pool object at 0x7f22a39bd438> 3827.960390329361\n",
      "<multiprocessing.pool.Pool object at 0x7f22a39bd438> 3828.437182188034\n",
      "<multiprocessing.pool.Pool object at 0x7f22a39bd438> 3828.5922980308533\n",
      "<multiprocessing.pool.Pool object at 0x7f22a39bd438> 3829.292272090912\n",
      "<multiprocessing.pool.Pool object at 0x7f22a39bd438> 3829.5450558662415\n",
      "<multiprocessing.pool.Pool object at 0x7f22a39bd438> 3832.2273490428925\n",
      "CPU times: user 9.32 s, sys: 5.2 s, total: 14.5 s\n",
      "Wall time: 1h 3min 52s\n"
     ]
    }
   ],
   "source": [
    "%%time\n",
    "import time\n",
    "\n",
    "nWorkers = 20\n",
    "if nWorkers ==1:\n",
    "\n",
    "    #masks = tracking.preprocess(rawframes, minSize = param['minSize'], threshold =None )\n",
    "    print('Detecting features')\n",
    "    features = tracking.runfeatureDetection(rawframes, masks, param, frameOffset = 0)\n",
    "else:\n",
    "    from multiprocessing import Pool\n",
    "    print('Detecting features')\n",
    "    def f(sl):\n",
    "        a,b = sl\n",
    "        #print(a,b)\n",
    "        return tracking.runfeatureDetection(rawframes[a:b], masks[a:b], param, frameOffset = a)\n",
    "    features = []\n",
    "    L = len(rawframes)\n",
    "    # create chunks of analysis based on how many workers we use\n",
    "    print(L)\n",
    "    chunksize = L//nWorkers//20\n",
    "    #slices = np.arange(L)\n",
    "    slices = zip((range(0,L, chunksize)), (range(chunksize,L+chunksize, chunksize)))\n",
    "    \n",
    "    p = Pool(20)\n",
    "    start = time.time()\n",
    "    for res in p.imap_unordered(f, slices):\n",
    "        features.append(res)\n",
    "        print(p, time.time()-start)\n",
    "    features = pd.concat(features)"
   ]
  },
  {
   "cell_type": "code",
   "execution_count": 18,
   "metadata": {},
   "outputs": [
    {
     "data": {
      "text/plain": [
       "[<matplotlib.lines.Line2D at 0x7f22a081a748>]"
      ]
     },
     "execution_count": 18,
     "metadata": {},
     "output_type": "execute_result"
    },
    {
     "data": {
      "image/png": "[encoded data removed]",
      "text/plain": [
       "<Figure size 432x288 with 1 Axes>"
      ]
     },
     "metadata": {
      "needs_background": "light"
     },
     "output_type": "display_data"
    }
   ],
   "source": [
    "\n",
    "### Save the features\n",
    "plt.plot(np.sort(features['area'].values))"
   ]
  },
  {
   "cell_type": "code",
   "execution_count": 3,
   "metadata": {},
   "outputs": [
    {
     "ename": "AttributeError",
     "evalue": "module 'pharaglow.features' has no attribute 'head'",
     "output_type": "error",
     "traceback": [
      "\u001b[0;31m---------------------------------------------------------------------------\u001b[0m",
      "\u001b[0;31mAttributeError\u001b[0m                            Traceback (most recent call last)",
      "\u001b[0;32m<ipython-input-3-7cdb92d24b03>\u001b[0m in \u001b[0;36m<module>\u001b[0;34m\u001b[0m\n\u001b[0;32m----> 1\u001b[0;31m \u001b[0mfeatures\u001b[0m\u001b[0;34m.\u001b[0m\u001b[0mhead\u001b[0m\u001b[0;34m(\u001b[0m\u001b[0;36m5\u001b[0m\u001b[0;34m)\u001b[0m\u001b[0;34m\u001b[0m\u001b[0;34m\u001b[0m\u001b[0m\n\u001b[0m\u001b[1;32m      2\u001b[0m \u001b[0mfeatures\u001b[0m\u001b[0;34m.\u001b[0m\u001b[0minfo\u001b[0m\u001b[0;34m(\u001b[0m\u001b[0mmemory_usage\u001b[0m\u001b[0;34m=\u001b[0m\u001b[0;34m'deep'\u001b[0m\u001b[0;34m)\u001b[0m\u001b[0;34m\u001b[0m\u001b[0;34m\u001b[0m\u001b[0m\n\u001b[1;32m      3\u001b[0m \u001b[0mfeatures\u001b[0m\u001b[0;34m.\u001b[0m\u001b[0mto_json\u001b[0m\u001b[0;34m(\u001b[0m\u001b[0moutfile\u001b[0m\u001b[0;34m.\u001b[0m\u001b[0mformat\u001b[0m\u001b[0;34m(\u001b[0m\u001b[0;34m'features'\u001b[0m\u001b[0;34m)\u001b[0m\u001b[0;34m,\u001b[0m \u001b[0morient\u001b[0m\u001b[0;34m=\u001b[0m\u001b[0;34m'split'\u001b[0m\u001b[0;34m)\u001b[0m\u001b[0;34m\u001b[0m\u001b[0;34m\u001b[0m\u001b[0m\n",
      "\u001b[0;31mAttributeError\u001b[0m: module 'pharaglow.features' has no attribute 'head'"
     ]
    }
   ],
   "source": [
    "features.head(5)\n",
    "features.info(memory_usage='deep')\n",
    "features.to_json(outfile.format('features', 'all'), orient='split')"
   ]
  },
  {
   "cell_type": "code",
   "execution_count": 3,
   "metadata": {},
   "outputs": [],
   "source": [
    "#features = pd.read_json(outfile.format('features'), orient='split', numpy = True)"
   ]
  },
  {
   "cell_type": "code",
   "execution_count": 4,
   "metadata": {},
   "outputs": [
    {
     "name": "stdout",
     "output_type": "stream",
     "text": [
      "Frame 17999: 5 trajectories present.\n"
     ]
    }
   ],
   "source": [
    "print('Done')\n",
    "print('Linking trajectories')\n",
    "#trajectories = tracking.linkParticles(features, param['searchRange'], param['minimalDuration'])\n",
    "#trajectories = tracking.linkParticles(features, 50, 500);\n",
    "#trajectories = tp.link_df(features, 50, memory= 30)\n",
    "#trajectories = tp.filter_stubs(trajectories,100)\n",
    "pred = tp.predict.NearestVelocityPredict()\n",
    "trajectories = pred.link_df(features, 40, memory= 300)"
   ]
  },
  {
   "cell_type": "code",
   "execution_count": 5,
   "metadata": {},
   "outputs": [
    {
     "name": "stdout",
     "output_type": "stream",
     "text": [
      "99\n",
      "30\n"
     ]
    }
   ],
   "source": [
    "print(trajectories['particle'].nunique())\n",
    "trajectories = tp.filter_stubs(trajectories,500)\n",
    "print(trajectories['particle'].nunique())"
   ]
  },
  {
   "cell_type": "markdown",
   "metadata": {},
   "source": [
    "### Show resulting trajectories"
   ]
  },
  {
   "cell_type": "code",
   "execution_count": 6,
   "metadata": {},
   "outputs": [
    {
     "ename": "NameError",
     "evalue": "name 'masks' is not defined",
     "output_type": "error",
     "traceback": [
      "\u001b[0;31m---------------------------------------------------------------------------\u001b[0m",
      "\u001b[0;31mNameError\u001b[0m                                 Traceback (most recent call last)",
      "\u001b[0;32m<ipython-input-6-fdf5549cfc11>\u001b[0m in \u001b[0;36m<module>\u001b[0;34m\u001b[0m\n\u001b[1;32m      1\u001b[0m \u001b[0mplt\u001b[0m\u001b[0;34m.\u001b[0m\u001b[0mfigure\u001b[0m\u001b[0;34m(\u001b[0m\u001b[0mfigsize\u001b[0m\u001b[0;34m=\u001b[0m\u001b[0;34m(\u001b[0m\u001b[0;36m11\u001b[0m\u001b[0;34m,\u001b[0m\u001b[0;36m11\u001b[0m\u001b[0;34m)\u001b[0m\u001b[0;34m)\u001b[0m\u001b[0;34m\u001b[0m\u001b[0;34m\u001b[0m\u001b[0m\n\u001b[0;32m----> 2\u001b[0;31m \u001b[0mtp\u001b[0m\u001b[0;34m.\u001b[0m\u001b[0mplot_traj\u001b[0m\u001b[0;34m(\u001b[0m\u001b[0mtrajectories\u001b[0m\u001b[0;34m,\u001b[0m \u001b[0msuperimpose\u001b[0m\u001b[0;34m=\u001b[0m\u001b[0;36m1\u001b[0m\u001b[0;34m-\u001b[0m\u001b[0mmasks\u001b[0m\u001b[0;34m[\u001b[0m\u001b[0;36m900\u001b[0m\u001b[0;34m]\u001b[0m\u001b[0;34m)\u001b[0m\u001b[0;34m;\u001b[0m\u001b[0;34m\u001b[0m\u001b[0;34m\u001b[0m\u001b[0m\n\u001b[0m",
      "\u001b[0;31mNameError\u001b[0m: name 'masks' is not defined"
     ]
    },
    {
     "data": {
      "text/plain": [
       "<Figure size 792x792 with 0 Axes>"
      ]
     },
     "metadata": {},
     "output_type": "display_data"
    }
   ],
   "source": [
    "plt.figure(figsize=(11,11))\n",
    "tp.plot_traj(trajectories, superimpose=1-masks[900]);"
   ]
  },
  {
   "cell_type": "code",
   "execution_count": 7,
   "metadata": {},
   "outputs": [],
   "source": [
    "from multiprocessing import Pool\n",
    "def parallelize_dataframe(df, func, params, n_cores):\n",
    "    df_split = np.array_split(df, n_cores)\n",
    "    print([len(d) for d in df_split])\n",
    "    pool = Pool(n_cores)\n",
    "    df = pd.concat(pool.starmap(func, zip(df_split, np.repeat(params, len(df_split)))))\n",
    "    pool.close()\n",
    "    pool.join()\n",
    "    return df"
   ]
  },
  {
   "cell_type": "markdown",
   "metadata": {},
   "source": [
    "### run the whole pharaglow feature extraction"
   ]
  },
  {
   "cell_type": "code",
   "execution_count": 10,
   "metadata": {},
   "outputs": [
    {
     "name": "stdout",
     "output_type": "stream",
     "text": [
      "Extracting pharynx data\n",
      "[5108, 5108, 5108, 5108, 5108, 5108, 5108, 5108, 5108, 5108, 5108, 5107, 5107, 5107, 5107, 5107, 5107, 5107, 5107, 5107]\n",
      "Done tracking. Successfully tracked 18000 frames with 30 trajectorie(s).\n",
      "CPU times: user 32.1 s, sys: 10.4 s, total: 42.4 s\n",
      "Wall time: 39min 16s\n"
     ]
    }
   ],
   "source": [
    "%%time\n",
    "print('Extracting pharynx data')\n",
    "trajectories = parallelize_dataframe(trajectories, run.runPharaglowOnStack, n_cores = 20, params = param)\n",
    "print('Done tracking. Successfully tracked {} frames with {} trajectorie(s).'.format(len(rawframes), trajectories['particle'].nunique()))"
   ]
  },
  {
   "cell_type": "markdown",
   "metadata": {},
   "source": [
    "### Save data as hdf5 format (every trajectory in a file)"
   ]
  },
  {
   "cell_type": "code",
   "execution_count": 11,
   "metadata": {},
   "outputs": [],
   "source": [
    "#trajectories.info(memory_usage='deep')\n",
    "for particle_index in trajectories['particle'].unique():\n",
    "    trajectories[trajectories.loc[:,'particle'] == particle_index].to_json(outfile.format('results', particle_index), orient='split')"
   ]
  },
  {
   "cell_type": "code",
   "execution_count": null,
   "metadata": {},
   "outputs": [],
   "source": []
  }
 ],
 "metadata": {
  "kernelspec": {
   "display_name": "Python 3",
   "language": "python",
   "name": "python3"
  },
  "language_info": {
   "codemirror_mode": {
    "name": "ipython",
    "version": 3
   },
   "file_extension": ".py",
   "mimetype": "text/x-python",
   "name": "python",
   "nbconvert_exporter": "python",
   "pygments_lexer": "ipython3",
   "version": "3.7.3"
  }
 },
 "nbformat": 4,
 "nbformat_minor": 2
}
