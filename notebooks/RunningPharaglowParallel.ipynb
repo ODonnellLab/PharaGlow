{
 "cells": [
  {
   "cell_type": "markdown",
   "metadata": {},
   "source": [
    "# Run Pharaglow "
   ]
  },
  {
   "cell_type": "code",
   "execution_count": null,
   "metadata": {},
   "outputs": [],
   "source": [
    "%matplotlib inline\n",
    "import numpy as np\n",
    "import pandas as pd\n",
    "# image io and analysis\n",
    "import json\n",
    "import pims\n",
    "import trackpy as tp\n",
    "\n",
    "# plotting\n",
    "import matplotlib  as mpl \n",
    "import matplotlib.pyplot as plt \n",
    "\n",
    "#our packages\n",
    "from pharaglow import tracking, run, features"
   ]
  },
  {
   "cell_type": "markdown",
   "metadata": {},
   "source": [
    "### Load data and create binary masks "
   ]
  },
  {
   "cell_type": "code",
   "execution_count": null,
   "metadata": {},
   "outputs": [],
   "source": [
    "%%time\n",
    "# io\n",
    "fname = \"/media/scholz_la/hd2/Nicolina/Nicolina/20200109_NZ0014/*.tiff\"\n",
    "parameterfile = \"/home/scholz_la/Desktop/pumping/PharaGlow/pharaglow_parameters_mks.txt\"\n",
    "outfile = \"/media/scholz_la/hd2/Nicolina/Nicolina/20200109_NZ0014_MKS_{}_{}.json\"\n",
    "lawnfile = '/media/scholz_la/hd2/Nicolina/Nicolina/Lawns/NZ0014_lawn.bmp'\n",
    "\n",
    "print('Starting pharaglow analysis...')\n",
    "rawframes = pims.open(fname)\n",
    "rawframes = rawframes[:18000]\n",
    "\n",
    "print('Loading parameters from {}'.format(parameterfile.split('/')[-2:]))\n",
    "with open(parameterfile) as f:\n",
    "    param = json.load(f)\n",
    "\n",
    "if lawnfile is not None:\n",
    "    print('open and binarize lawn file')\n",
    "    lawn = pims.open(lawnfile)[0]\n",
    "    binLawn = features.findLawn(lawn)"
   ]
  },
  {
   "cell_type": "code",
   "execution_count": null,
   "metadata": {},
   "outputs": [],
   "source": [
    "%%time\n",
    "# detecting objects\n",
    "print('Binarizing images')\n",
    "masks = tracking.calculateMask(rawframes, minSize = param['minSize'], bgWindow = param['bgWindow']\n",
    "                               , thresholdWindow = param['thresholdWindow'], smooth =  param['smooth'],\n",
    "                               subtract =  param['subtract'])\n"
   ]
  },
  {
   "cell_type": "markdown",
   "metadata": {},
   "source": [
    "### Make sure the thesholding worked otherwise change parameters"
   ]
  },
  {
   "cell_type": "code",
   "execution_count": null,
   "metadata": {},
   "outputs": [],
   "source": [
    "t = 4900\n",
    "plt.figure(figsize=(18,11))\n",
    "# plt.subplot(121)\n",
    "plt.imshow(rawframes[t]+lawn)\n",
    "# plt.subplot(122)\n",
    "plt.imshow(masks[t])#[:,2500:])\n",
    "print(np.sum(masks[t]))#[:,2500:]))"
   ]
  },
  {
   "cell_type": "markdown",
   "metadata": {},
   "source": [
    "### Detecting individual objects and tracking or use multiprocessing to speed up feature detection"
   ]
  },
  {
   "cell_type": "code",
   "execution_count": null,
   "metadata": {},
   "outputs": [],
   "source": [
    "%%time\n",
    "import time\n",
    "\n",
    "nWorkers = 10\n",
    "if nWorkers ==1:\n",
    "\n",
    "    #masks = tracking.preprocess(rawframes, minSize = param['minSize'], threshold =None )\n",
    "    print('Detecting features')\n",
    "    features = tracking.runfeatureDetection(rawframes, masks, param, frameOffset = 0)\n",
    "else:\n",
    "    from multiprocessing import Pool\n",
    "    print('Detecting features')\n",
    "    def f(sl):\n",
    "        a,b = sl\n",
    "        #print(a,b)\n",
    "        return tracking.runfeatureDetection(rawframes[a:b], masks[a:b], param, frameOffset = a)\n",
    "    features = []\n",
    "    L = len(rawframes)\n",
    "    # create chunks of analysis based on how many workers we use\n",
    "    print(L)\n",
    "    chunksize = L//nWorkers//20\n",
    "    #slices = np.arange(L)\n",
    "    slices = zip((range(0,L, chunksize)), (range(chunksize,L+chunksize, chunksize)))\n",
    "    \n",
    "    p = Pool(processes = nWorkers)\n",
    "    start = time.time()\n",
    "    for k, res in enumerate(p.imap_unordered(f, slices)):\n",
    "        features.append(res)\n",
    "        if k == nWorkers:\n",
    "            print('Expected time is approx. {} s'.format((L/chunksize-k)*(time.time()-start)/nWorkers/2))\n",
    "        #print(p, time.time()-start)\n",
    "    features = pd.concat(features)\n",
    "    p.close()\n",
    "    p.join()"
   ]
  },
  {
   "cell_type": "code",
   "execution_count": null,
   "metadata": {},
   "outputs": [],
   "source": [
    "### Save the features\n",
    "plt.plot(np.sort(features['area'].values))"
   ]
  },
  {
   "cell_type": "code",
   "execution_count": null,
   "metadata": {},
   "outputs": [],
   "source": [
    "features.head(5)\n",
    "features.info(memory_usage='deep')\n",
    "features.to_json(outfile.format('features', 'all'), orient='split')"
   ]
  },
  {
   "cell_type": "code",
   "execution_count": null,
   "metadata": {},
   "outputs": [],
   "source": [
    "features = pd.read_json(outfile.format('features', 'all'), orient='split', numpy = True)"
   ]
  },
  {
   "cell_type": "markdown",
   "metadata": {},
   "source": [
    "### Link objects to trajectories and interpolate short misses"
   ]
  },
  {
   "cell_type": "code",
   "execution_count": null,
   "metadata": {},
   "outputs": [],
   "source": [
    "print('Done')\n",
    "print('Linking trajectories')\n",
    "#trajectories = tracking.linkParticles(features, param['searchRange'], param['minimalDuration'])\n",
    "#trajectories = tracking.linkParticles(features, 50, 500);\n",
    "#trajectories = tp.link_df(features, 50, memory= 30)\n",
    "#trajectories = tp.filter_stubs(trajectories,100)\n",
    "pred = tp.predict.NearestVelocityPredict()\n",
    "trajectories = pred.link_df(features, 30, memory= 30)"
   ]
  },
  {
   "cell_type": "code",
   "execution_count": null,
   "metadata": {},
   "outputs": [],
   "source": [
    "print('Interpolating trajectories')\n",
    "traj = []\n",
    "for particle_index in trajectories['particle'].unique():\n",
    "    tmp = trajectories[trajectories.loc[:,'particle'] == particle_index]\n",
    "    traj.append(tracking.interpolateTrajectories(tmp))\n",
    "trajectories = pd.concat(traj)"
   ]
  },
  {
   "cell_type": "code",
   "execution_count": null,
   "metadata": {},
   "outputs": [],
   "source": [
    "print(trajectories['particle'].nunique())\n",
    "trajectories = tp.filter_stubs(trajectories,600)\n",
    "print(trajectories['particle'].nunique())"
   ]
  },
  {
   "cell_type": "markdown",
   "metadata": {},
   "source": [
    "### Save / Load trajectories if you need to have a checkpoint"
   ]
  },
  {
   "cell_type": "code",
   "execution_count": null,
   "metadata": {},
   "outputs": [],
   "source": [
    "trajectories.to_json(outfile.format('trajectories', 'all'), orient='split')"
   ]
  },
  {
   "cell_type": "code",
   "execution_count": null,
   "metadata": {},
   "outputs": [],
   "source": [
    "trajectories = pd.read_json(outfile.format('trajectories', 'all'), orient='split', numpy = True)\n",
    "trajectories['image'].replace('None', np.nan, inplace=True)"
   ]
  },
  {
   "cell_type": "code",
   "execution_count": null,
   "metadata": {},
   "outputs": [],
   "source": [
    "trajectories['image'].replace([None], np.nan, inplace=True)"
   ]
  },
  {
   "cell_type": "markdown",
   "metadata": {},
   "source": [
    "### add the missing images to interpolated trajectories"
   ]
  },
  {
   "cell_type": "code",
   "execution_count": null,
   "metadata": {},
   "outputs": [],
   "source": [
    "%%time\n",
    "print('Fill in missing images')\n",
    "from pharaglow import tracking, run, features\n",
    "trajectories[['image']] = trajectories.apply(\\\n",
    "        lambda row: pd.Series(tracking.fillMissingImages(rawframes, row['frame'], row['x'], row['y'],\\\n",
    "                                                length=param['length'], size=param['watershed'])) if np.all(np.isnan(row['image'])) else row['image'], axis=1)"
   ]
  },
  {
   "cell_type": "code",
   "execution_count": null,
   "metadata": {},
   "outputs": [],
   "source": [
    "%xdel rawframes "
   ]
  },
  {
   "cell_type": "markdown",
   "metadata": {},
   "source": [
    "### Extract lawn info"
   ]
  },
  {
   "cell_type": "code",
   "execution_count": null,
   "metadata": {},
   "outputs": [],
   "source": [
    "%%time\n",
    "\n",
    "def inside(x,y,binLawn):\n",
    "    return binLawn[int(y), int(x)]\n",
    "\n",
    "if lawnfile is not None:\n",
    "    trajectories['inside'] = trajectories.apply(\\\n",
    "        lambda row: pd.Series(inside(row['x'], row['y'], binLawn)), axis=1)"
   ]
  },
  {
   "cell_type": "markdown",
   "metadata": {},
   "source": [
    "### Show resulting trajectories"
   ]
  },
  {
   "cell_type": "code",
   "execution_count": null,
   "metadata": {},
   "outputs": [],
   "source": [
    "plt.figure(figsize=(11,11))\n",
    "tp.plot_traj(trajectories, superimpose=1-masks[17000]);"
   ]
  },
  {
   "cell_type": "markdown",
   "metadata": {},
   "source": [
    "### write trajectories to file"
   ]
  },
  {
   "cell_type": "code",
   "execution_count": null,
   "metadata": {},
   "outputs": [],
   "source": [
    "# # write trajectories to separate files.\n",
    "#trajectories = pd.read_json(outfile.format('trajectories', 'all'), orient='split', numpy = True)\n",
    "for particle_index in trajectories['particle'].unique():\n",
    "    tmp = trajectories[trajectories.loc[:,'particle'] == particle_index]\n",
    "    tmp.to_json(outfile.format('trajectories', particle_index), orient='split')"
   ]
  },
  {
   "cell_type": "markdown",
   "metadata": {},
   "source": [
    "### check slow-down before continuing analysis"
   ]
  },
  {
   "cell_type": "code",
   "execution_count": null,
   "metadata": {},
   "outputs": [],
   "source": [
    "plt.figure(figsize=(12,8))\n",
    "vcut = []\n",
    "dt = 500\n",
    "for pid in trajectories['particle'].unique():\n",
    "    tmp = trajectories[['frame', 'x', 'y']][trajectories.loc[:,'particle'] == pid].diff()\n",
    "    f = (trajectories[['inside']][trajectories.loc[:,'particle'] == pid]).mean().values\n",
    "    if f<0.9 and f>0.01:\n",
    "        t0 = np.where((trajectories[['inside']][trajectories.loc[:,'particle'] == pid])==1)[0][0]\n",
    "        if t0>dt:\n",
    "            time = np.linspace(0,2*dt/30., 2*dt)\n",
    "            v = np.sqrt((tmp['x']**2+tmp['y']**2))/tmp['frame']*30*2.4\n",
    "            plt.plot(time, v.iloc[t0-dt:t0+dt].values, 'navy', alpha=0.1)\n",
    "            vcut.append(v.iloc[t0-dt:t0+dt].values)\n",
    "plt.plot(time, np.mean(np.array(vcut), axis=0), color='navy')\n",
    "plt.axvline(dt/30, color='k', linestyle='--')\n",
    "plt.ylabel(r\"velocity ($\\mu$m/s)\");\n",
    "plt.xlabel(\"time (s)\");\n"
   ]
  },
  {
   "cell_type": "markdown",
   "metadata": {},
   "source": [
    "### run the whole pharaglow feature extraction"
   ]
  },
  {
   "cell_type": "code",
   "execution_count": null,
   "metadata": {},
   "outputs": [],
   "source": [
    "from multiprocessing import Pool\n",
    "def parallelize_dataframe(df, func, params, n_cores):\n",
    "    df_split = np.array_split(df, n_cores)\n",
    "    print([len(d) for d in df_split])\n",
    "    pool = Pool(n_cores)\n",
    "    df = pd.concat(pool.starmap(func, zip(df_split, np.repeat(params, len(df_split)))))\n",
    "    pool.close()\n",
    "    pool.join()\n",
    "    return df"
   ]
  },
  {
   "cell_type": "markdown",
   "metadata": {},
   "source": [
    "### Save data as hdf5 format (every trajectory in a file)"
   ]
  },
  {
   "cell_type": "code",
   "execution_count": null,
   "metadata": {},
   "outputs": [],
   "source": [
    "%%time\n",
    "import os\n",
    "path = os.path.dirname(outfile)\n",
    "for fn in os.listdir(path):\n",
    "    file =os.path.join(path,fn)\n",
    "    if os.path.isfile(file) and 'trajectories_' in fn and fn.endswith('.json'):\n",
    "            traj =  pd.read_json(file, orient='split', numpy = True)\n",
    "            print('Analyzing trajectory:', fn)\n",
    "            particle_index = int(fn.split('.')[0].split('_')[-1])\n",
    "            tmp = parallelize_dataframe(traj, run.runPharaglowOnStack, n_cores = 10, params = param)\n",
    "            tmp.to_json(outfile.format('results', particle_index), orient='split')"
   ]
  },
  {
   "cell_type": "code",
   "execution_count": null,
   "metadata": {},
   "outputs": [],
   "source": [
    "fn"
   ]
  },
  {
   "cell_type": "code",
   "execution_count": null,
   "metadata": {},
   "outputs": [],
   "source": [
    "int(fn.split('.')[0].split('_')[-1])"
   ]
  },
  {
   "cell_type": "code",
   "execution_count": null,
   "metadata": {},
   "outputs": [],
   "source": []
  }
 ],
 "metadata": {
  "kernelspec": {
   "display_name": "Python 3",
   "language": "python",
   "name": "python3"
  },
  "language_info": {
   "codemirror_mode": {
    "name": "ipython",
    "version": 3
   },
   "file_extension": ".py",
   "mimetype": "text/x-python",
   "name": "python",
   "nbconvert_exporter": "python",
   "pygments_lexer": "ipython3",
   "version": "3.7.3"
  }
 },
 "nbformat": 4,
 "nbformat_minor": 2
}
