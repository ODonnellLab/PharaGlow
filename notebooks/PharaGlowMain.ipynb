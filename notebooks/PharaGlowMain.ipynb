{
 "cells": [
  {
   "cell_type": "markdown",
   "metadata": {
    "tags": []
   },
   "source": [
    "# Pharaglow Analysis Notebook"
   ]
  },
  {
   "cell_type": "code",
   "execution_count": 1,
   "metadata": {},
   "outputs": [],
   "source": [
    "%matplotlib inline\n",
    "import numpy as np\n",
    "import os\n",
    "import pandas as pd\n",
    "import shutil\n",
    "import timeit\n",
    "from datetime import date\n",
    "# image io and analysis\n",
    "import json\n",
    "import pims\n",
    "from skimage.io import imsave\n",
    "import trackpy as tp\n",
    "\n",
    "# plotting\n",
    "import matplotlib  as mpl \n",
    "import matplotlib.pyplot as plt \n",
    "\n",
    "#our packages\n",
    "import pharaglow\n",
    "from pharaglow import tracking, run, features, util, io, extract\n",
    "\n",
    "# show logger messabes loally\n",
    "import logging\n",
    "logging.debug('pharaglow')\n",
    "# reduce the output messages from trackpy\n",
    "tp.quiet(suppress=True)"
   ]
  },
  {
   "cell_type": "markdown",
   "metadata": {},
   "source": [
    "This notebook runs the pharaglow image analysis pipeline. It comprises three stages on analysis which can be done sequentially and are independent. Analyses can be interrupted at the end of each stage after saving the output dataframe. \n",
    "\n",
    "**1. Step -  Basic object detection**\n",
    "    This step creates a \"_features.json\" file which contains a table of objects detected in each frame.\n",
    "    Beyond finding the center of mass of an object, no further image analysis is done here.\n",
    "    \n",
    "**2. Step - Linking objects into trajectories**\n",
    "    This results in individual files \"_trajectory.json\" for each tracked animal.\n",
    "    \n",
    "**3. Step - Analysing the details of object shapes**\n",
    "    This step is doing the heavy lifting: It extracts centerlines, widths, contours and other object descriptors from the objects\n",
    "\n",
    "All subsequent analyses steps add 'columns' to the data, and thus features is a subset of trajectories is a subset of results."
   ]
  },
  {
   "cell_type": "markdown",
   "metadata": {},
   "source": [
    "## 1. Setup"
   ]
  },
  {
   "cell_type": "code",
   "execution_count": 2,
   "metadata": {},
   "outputs": [],
   "source": [
    "def setup(parameterfile, inPath, outPath, movie):\n",
    "    \"\"\"helper function to simplify the setting up before analysis. Handles path checking and creating, parameter reads ad data reads.\"\"\"\n",
    "    npaths = {'parameter file': parameterfile,\n",
    "          'inPath':inPath,\n",
    "          'outPath': outPath}\n",
    "    ### start a logger\n",
    "    today = date.today().strftime(\"%Y%m%d\")\n",
    "    logger = io.log_setup('PharaGlow', 10, fname = os.path.join(outPath, f'{today}_{movie}_pharaglow_log.txt'))\n",
    "    ### create filenames\n",
    "    fname = os.path.join(inPath,\"*.tif*\")\n",
    "    outfile = os.path.join(outPath, movie+\"_{}_{}.json\")\n",
    "    imfile =  os.path.join(outPath, movie+\"_{}_{}.tiff\")\n",
    "    saveparam = os.path.join(outPath, movie+\"_parameters\")\n",
    "    \n",
    "    logger.info(f\"parameters file will be saved as {saveparam}\")\n",
    "    logger.info(f\"output file will be saved as {outfile}\")\n",
    "    logger.info(f\"image files will be saved as {imfile}\")\n",
    "    # check if all the paths exist\n",
    "    for key, value in npaths.items():    \n",
    "        if os.path.exists(value):\n",
    "            logger.info(f'{key}: {value}')\n",
    "        else:\n",
    "            logger.warning(f\"Warning! The path for {key} doesnt exist: {value}\")\n",
    "    logger.info(f\"Loading parameters from {parameterfile}...\")\n",
    "    ### load analysis parameters\n",
    "    with open(parameterfile) as f:\n",
    "        param = json.load(f)\n",
    "    logger.info(f\"parameters file loaded as 'param':{param}\")\n",
    "    # save a copy of the parameters\n",
    "    logger.info(\"Saving parameters...\")\n",
    "    with open(saveparam, 'w') as f:\n",
    "        json.dump(param, f)\n",
    "    logger.info(f\"parameters saved as {parameterfile}\")\n",
    "    \n",
    "    ### load lawns\n",
    "    if lawnPath is not None and lawnPath != 'None':\n",
    "        try:\n",
    "            lawnfile = os.path.join(lawnPath,movie+'_lawn.tiff')\n",
    "            lawn = pims.open(lawnfile)[0]\n",
    "            binLawn = features.findLawn(lawn)\n",
    "        except Exception:\n",
    "            lawnfile = os.path.join(lawnPath,movie+'_lawn.bmp')\n",
    "            lawn = pims.open(lawnfile)[0]\n",
    "            binLawn = features.findLawn(lawn)\n",
    "        logger.info(\"Lawnfile opened as 'lawn'\")\n",
    "    else:\n",
    "        lawn = None\n",
    "        \n",
    "    ### load images\n",
    "    start = timeit.default_timer()\n",
    "    logger.info(\"Loading tiff files.\")\n",
    "    rawframes = pims.open(fname)\n",
    "    stop = timeit.default_timer()\n",
    "    logger.info(f\"image loading time: {stop - start}s\")  \n",
    "    nfiles = len([f for f in os.listdir(inPath) if '.tif' in f])\n",
    "    # tiff files\n",
    "    logger.info(f\"Number of tiff files: {nfiles}\")\n",
    "    # rawframes \n",
    "    logger.info(f\"Number of rawframes: {len(rawframes)}\")\n",
    "\n",
    "    if nfiles != len(rawframes):\n",
    "        logger.warning(\"the number of tiff files doesn't match with the number of rawframes !\")\n",
    "\n",
    "    return logger, param, rawframes, lawn, outfile, imfile\n",
    "    \n",
    "    "
   ]
  },
  {
   "cell_type": "markdown",
   "metadata": {},
   "source": [
    "### Input parameters"
   ]
  },
  {
   "cell_type": "code",
   "execution_count": 10,
   "metadata": {
    "tags": [
     "parameters"
    ]
   },
   "outputs": [],
   "source": [
    "parameterfile = r\"C:\\Users\\bonnard\\Documents\\GitHub\\PharaGlow\\AnalysisParameters_1x.json\"\n",
    "inPath = r\"C:\\Users\\bonnard\\Documents\\DATA\\demo_data\\MS0006\"\n",
    "outPath = r\"C:\\Users\\bonnard\\Documents\\DATA\\demo_data\\pg_out\"\n",
    "movie = \"MS0006\"\n",
    "\n",
    "nWorkers = 4\n",
    "\n",
    "depth = 'uint8'\n",
    "save_minimal = True\n",
    "\n",
    "lawnPath = None #\"/opt/data/Lawns/\""
   ]
  },
  {
   "cell_type": "code",
   "execution_count": 11,
   "metadata": {},
   "outputs": [
    {
     "name": "stderr",
     "output_type": "stream",
     "text": [
      "INFO:PharaGlow:parameters file will be saved as C:\\Users\\bonnard\\Documents\\DATA\\demo_data\\pg_out\\MS0006_parameters\n",
      "INFO:PharaGlow:output file will be saved as C:\\Users\\bonnard\\Documents\\DATA\\demo_data\\pg_out\\MS0006_{}_{}.json\n",
      "INFO:PharaGlow:image files will be saved as C:\\Users\\bonnard\\Documents\\DATA\\demo_data\\pg_out\\MS0006_{}_{}.tiff\n",
      "INFO:PharaGlow:parameter file: C:\\Users\\bonnard\\Documents\\GitHub\\PharaGlow\\AnalysisParameters_1x.json\n",
      "INFO:PharaGlow:inPath: C:\\Users\\bonnard\\Documents\\DATA\\demo_data\\MS0006\n",
      "INFO:PharaGlow:outPath: C:\\Users\\bonnard\\Documents\\DATA\\demo_data\\pg_out\n",
      "INFO:PharaGlow:Loading parameters from C:\\Users\\bonnard\\Documents\\GitHub\\PharaGlow\\AnalysisParameters_1x.json...\n",
      "INFO:PharaGlow:parameters file loaded as 'param':{'subtract': 1, 'smooth': 1, 'dilate': 2, 'tfactor': 1, 'thresholdWindow': 30, 'bgWindow': 30, 'length': 100, 'watershed': 100, 'minSize': 600, 'maxSize': 1500, 'searchRange': 10, 'memory': 30, 'minimalDuration': 600, 'widthStraight': 10, 'pad': 5, 'nPts': 200, 'linewidth': 2}\n",
      "INFO:PharaGlow:Saving parameters...\n",
      "INFO:PharaGlow:parameters saved as C:\\Users\\bonnard\\Documents\\GitHub\\PharaGlow\\AnalysisParameters_1x.json\n",
      "INFO:PharaGlow:Loading tiff files.\n",
      "INFO:PharaGlow:image loading time: 0.04014770000003409s\n",
      "INFO:PharaGlow:Number of tiff files: 999\n",
      "INFO:PharaGlow:Number of rawframes: 999\n"
     ]
    }
   ],
   "source": [
    "logger, param, rawframes, lawn, outfile, imfile = setup(parameterfile, inPath, outPath, movie)"
   ]
  },
  {
   "cell_type": "markdown",
   "metadata": {},
   "source": [
    "## 2. Object detection"
   ]
  },
  {
   "cell_type": "markdown",
   "metadata": {},
   "source": [
    "### Create binary masks"
   ]
  },
  {
   "cell_type": "code",
   "execution_count": 12,
   "metadata": {},
   "outputs": [
    {
     "name": "stderr",
     "output_type": "stream",
     "text": [
      "INFO:PharaGlow:Binarizing images...\n",
      "INFO:PharaGlow:binary masks created (6.896687699999973s)\n"
     ]
    }
   ],
   "source": [
    "start = timeit.default_timer()\n",
    "\n",
    "# detecting objects\n",
    "logger.info('Binarizing images...')\n",
    "\n",
    "masks = tracking.calculateMask(rawframes,\n",
    "                               bgWindow = param['bgWindow'],\n",
    "                               thresholdWindow = param['thresholdWindow'],\n",
    "                               smooth =  param['smooth'],\n",
    "                               subtract =  param['subtract'],\n",
    "                               dilate = param['dilate'],\n",
    "                               tfactor=param['tfactor'])\n",
    "\n",
    "\n",
    "stop = timeit.default_timer()\n",
    "logger.info(f\"binary masks created ({stop - start}s)\")  "
   ]
  },
  {
   "cell_type": "markdown",
   "metadata": {
    "tags": []
   },
   "source": [
    "### Make sure the thresholding worked otherwise change parameters"
   ]
  },
  {
   "cell_type": "code",
   "execution_count": 14,
   "metadata": {},
   "outputs": [
    {
     "name": "stdout",
     "output_type": "stream",
     "text": [
      "rawframe 400 to visualize \n"
     ]
    }
   ],
   "source": [
    "# Select a rawframe to visualize\n",
    "t = 400 \n",
    "\n",
    "if t> (len(rawframes)-1):\n",
    "    # Check if the selected rawframe is present otherwise t=0\n",
    "    print(f\"Warning ! Max {len(rawframes)} rawframes. {t} changed to 0\")\n",
    "    t=0\n",
    "\n",
    "print(f\"rawframe {t} to visualize \")"
   ]
  },
  {
   "cell_type": "markdown",
   "metadata": {},
   "source": [
    "##### Visualize the raw data"
   ]
  },
  {
   "cell_type": "code",
   "execution_count": 23,
   "metadata": {},
   "outputs": [
    {
     "name": "stdout",
     "output_type": "stream",
     "text": [
      "figure saved as C:\\Users\\bonnard\\Documents\\DATA\\demo_data\\pg_out\\2023-02-16_MS0006_frame400_hist.pdf\n"
     ]
    },
    {
     "data": {
      "image/png": "[encoded data removed]",
      "text/plain": [
       "<Figure size 1152x576 with 3 Axes>"
      ]
     },
     "metadata": {
      "needs_background": "light"
     },
     "output_type": "display_data"
    }
   ],
   "source": [
    "plt.figure(figsize=(16,8))\n",
    "\n",
    "plt.subplot(121)\n",
    "# Plot the histogram of the pixel intensity values of the rawframe\n",
    "plt.hist(rawframes[t].ravel(), bins=256, log=True)\n",
    "plt.xlim(0, 260) # xlim for 8 bits image\n",
    "\n",
    "plt.subplot(122)\n",
    "# Adjust the color limit for the rawframe for vizualisation only\n",
    "color = (0,150) #  0<=color<=255 for 8 bits image\n",
    "# color = None \n",
    "plt.imshow(rawframes[t],clim = color)\n",
    "plt.colorbar(orientation='horizontal');\n",
    "plt.title(f\"{movie} at frame {t}\", fontsize=14)  \n",
    "\n",
    "# Save\n",
    "fig_path = os.path.join(outPath,f'{date.today()}_{movie}_frame{t}_hist.pdf')\n",
    "plt.savefig(fig_path)\n",
    "print(\"figure saved as\", fig_path)"
   ]
  },
  {
   "cell_type": "markdown",
   "metadata": {},
   "source": [
    "##### Show the mask and detected objects"
   ]
  },
  {
   "cell_type": "code",
   "execution_count": 18,
   "metadata": {},
   "outputs": [
    {
     "name": "stdout",
     "output_type": "stream",
     "text": [
      "5 detected objects\n",
      "figure saved as  C:\\Users\\bonnard\\Documents\\DATA\\demo_data\\pg_out\\2023-02-16_MS0006_frame400_masks.pdf\n"
     ]
    },
    {
     "data": {
      "image/png": "[encoded data removed]",
      "text/plain": [
       "<Figure size 1152x432 with 2 Axes>"
      ]
     },
     "metadata": {
      "needs_background": "light"
     },
     "output_type": "display_data"
    }
   ],
   "source": [
    "# %matplotlib qt\n",
    "\n",
    "from skimage.measure import label, regionprops\n",
    "\n",
    "plt.figure(figsize=(16,6))\n",
    "plt.subplot(121)\n",
    "# Show the rawframe\n",
    "plt.imshow(rawframes[t],clim= color)#+lawn)\n",
    "if lawn is not None:\n",
    "    # Show the lawn\n",
    "    plt.contour(binLawn, alpha=0.5, cmap='pink')\n",
    "    \n",
    "plt.subplot(122)\n",
    "# Show the masks and their size [px]\n",
    "plt.imshow(masks[t])#[:600,1000:])#[500:1500,2000:3500])#[:,2500:])\n",
    "# print(np.min(masks[t]))\n",
    "label_image, num = label(masks[t], background=0, connectivity = 1,return_num=True)\n",
    "print(f\"{num} detected objects\")\n",
    "for region in regionprops(label_image):\n",
    "    plt.text(region.centroid[1]+50, region.centroid[0], region.area, color ='w')\n",
    "\n",
    "plt.suptitle(f\"Rawframe and masks (#{num}) rawframe {t} ({movie})\", fontsize=14)    \n",
    "plt.tight_layout()\n",
    "\n",
    "# save the pdf\n",
    "fig_path = os.path.join(outPath,f'{date.today()}_{movie}_frame{t}_masks.pdf')\n",
    "plt.savefig(fig_path)\n",
    "print(\"figure saved as\", fig_path)"
   ]
  },
  {
   "cell_type": "markdown",
   "metadata": {},
   "source": [
    "### Detecting individual objects and tracking or use multiprocessing to speed up feature detection\n",
    "\n",
    "This section will go through all frames and find worm-sized (as specified by the parameters) objects. It creates a pd.Dataframe containing these and a stack of images (numpy array) that contain a cropped area around each worm. Note: Each worm image will be length x length x 8bit. So with 30 worms per image you expect the image array to be 6Gb/10 minutes."
   ]
  },
  {
   "cell_type": "code",
   "execution_count": null,
   "metadata": {},
   "outputs": [
    {
     "name": "stderr",
     "output_type": "stream",
     "text": [
      "INFO:PharaGlow:Detecting features...\n",
      "INFO:PharaGlow:...with 4 workers\n"
     ]
    }
   ],
   "source": [
    "start = timeit.default_timer()\n",
    "\n",
    "logger.info('Detecting features...')\n",
    "logger.info(f'...with {nWorkers} workers')\n",
    "objects, images = util.parallel_analysis((masks, rawframes), param, tracking.parallelWorker, framenumbers = None, nWorkers = nWorkers, output= None, depth = depth)\n",
    "# create a link between image and dataframe\n",
    "objects['im_idx'] = np.arange(len(objects))\n",
    "stop = timeit.default_timer()\n",
    "logger.info(f\"features detected ({stop - start}s)\") "
   ]
  },
  {
   "cell_type": "code",
   "execution_count": null,
   "metadata": {},
   "outputs": [],
   "source": [
    "# Files monitoring\n",
    "logger.info(f\" Number of frames in features:{objects['frame'].nunique()}\")\n",
    "                                                       \n",
    "if len(rawframes) != len(objects['frame'].unique()):\n",
    "    logger.warning(f\" Number of frames in features ({objects['frame'].nunique()}) and the number of rawframes ({len(rawframes)}) don't match !\")"
   ]
  },
  {
   "cell_type": "markdown",
   "metadata": {},
   "source": [
    "#### Visualize results of object detection"
   ]
  },
  {
   "cell_type": "code",
   "execution_count": null,
   "metadata": {},
   "outputs": [],
   "source": [
    "### Show the area of all objects\n",
    "plt.figure(figsize=(12,6))\n",
    "plt.subplot(121)\n",
    "objects['area'].hist(bins = 30)\n",
    "plt.xlabel('Area (px)')\n",
    "plt.subplot(122)\n",
    "objects['frame'].value_counts().sort_index().plot()\n",
    "plt.ylabel('Number of objects')\n",
    "plt.xlabel('Frame')\n",
    "\n",
    "# save the pdf\n",
    "plt.title(f\"{movie}\", fontsize=24)\n",
    "plt.savefig(os.path.join(outPath,f'{date.today()}_{movie}_objects_.pdf'))\n",
    "\n",
    "logger.info(f\"features.area.min():{objects.area.min()}\") # region.area > params['minSize']\n",
    "logger.info(f\"features.area.max():{objects.area.max()}\") # region.area < params['maxSize']"
   ]
  },
  {
   "cell_type": "markdown",
   "metadata": {},
   "source": [
    "### Save features and images"
   ]
  },
  {
   "cell_type": "code",
   "execution_count": 12,
   "metadata": {},
   "outputs": [
    {
     "name": "stderr",
     "output_type": "stream",
     "text": [
      "INFO:PharaGlow:Saving features...\n",
      "INFO:PharaGlow:features saved as C:\\Users\\bonnard\\Documents\\DATA\\3_1_pharaglow\\demo_data\\demo_data_features_all.json (0.020175300000005336s)\n"
     ]
    },
    {
     "name": "stdout",
     "output_type": "stream",
     "text": [
      "<class 'pandas.core.frame.DataFrame'>\n",
      "RangeIndex: 5077 entries, 0 to 5076\n",
      "Data columns (total 13 columns):\n",
      " #   Column    Non-Null Count  Dtype  \n",
      "---  ------    --------------  -----  \n",
      " 0   y         5077 non-null   float64\n",
      " 1   x         5077 non-null   float64\n",
      " 2   slice_y0  5077 non-null   int64  \n",
      " 3   slice_y1  5077 non-null   int64  \n",
      " 4   slice_x0  5077 non-null   int64  \n",
      " 5   slice_x1  5077 non-null   int64  \n",
      " 6   frame     5077 non-null   int64  \n",
      " 7   area      5077 non-null   int64  \n",
      " 8   yw        5077 non-null   float64\n",
      " 9   xw        5077 non-null   float64\n",
      " 10  shapeY    5077 non-null   int32  \n",
      " 11  shapeX    5077 non-null   int32  \n",
      " 12  im_idx    5077 non-null   int32  \n",
      "dtypes: float64(4), int32(3), int64(6)\n",
      "memory usage: 456.3 KB\n"
     ]
    },
    {
     "name": "stderr",
     "output_type": "stream",
     "text": [
      "INFO:PharaGlow:images saved as C:\\Users\\bonnard\\Documents\\DATA\\3_1_pharaglow\\demo_data\\demo_data_images_all.tiff (0.320130899999981s)\n"
     ]
    }
   ],
   "source": [
    "start = timeit.default_timer()\n",
    "# saving features\n",
    "logger.info(\"Saving features...\")\n",
    "objects.info(memory_usage='deep')\n",
    "objects.to_json(outfile.format('features', 'all'), orient='split')\n",
    "stop = timeit.default_timer()\n",
    "logger.info(f\"features saved as {outfile.format('features', 'all')} ({stop - start}s)\")\n",
    "\n",
    "start = timeit.default_timer()\n",
    "# saving images\n",
    "imsave(imfile.format('images', 'all'), images)\n",
    "stop = timeit.default_timer()\n",
    "logger.info(f\"images saved as {imfile.format('images', 'all')} ({stop - start}s)\")\n",
    "\n"
   ]
  },
  {
   "cell_type": "markdown",
   "metadata": {},
   "source": [
    "#### (Optional) Load features and images if continuing prior analysis"
   ]
  },
  {
   "cell_type": "code",
   "execution_count": 13,
   "metadata": {},
   "outputs": [
    {
     "name": "stdout",
     "output_type": "stream",
     "text": [
      "Wall time: 0 ns\n"
     ]
    }
   ],
   "source": [
    "%%time\n",
    "# leaving this here for re-analysis\n",
    "if False:\n",
    "    # Load feature\n",
    "    start = timeit.default_timer()\n",
    "    logger.info(\"Loading features...\")\n",
    "    objects = io.load(outfile.format('features', 'all'), orient='split')\n",
    "    images = pims.open(imfile.format('images', 'all'))\n",
    "    stop = timeit.default_timer()\n",
    "    logger.info(f\"features loaded ({stop - start}s)\")"
   ]
  },
  {
   "cell_type": "markdown",
   "metadata": {},
   "source": [
    "## 3. Creating trajectories"
   ]
  },
  {
   "cell_type": "markdown",
   "metadata": {},
   "source": [
    "### Link objects to trajectories using trackpy and interpolate short misses"
   ]
  },
  {
   "cell_type": "code",
   "execution_count": 14,
   "metadata": {},
   "outputs": [
    {
     "name": "stderr",
     "output_type": "stream",
     "text": [
      "INFO:PharaGlow:Linking trajectories...\n",
      "INFO:PharaGlow:Parameter searchRange: 10 px\n",
      "INFO:PharaGlow:Parameter memory: 30 frames\n"
     ]
    }
   ],
   "source": [
    "logger.info('Linking trajectories...')\n",
    "logger.info(f\"Parameter searchRange: {param['searchRange']} px\")\n",
    "logger.info(f\"Parameter memory: {param['memory']} frames\")"
   ]
  },
  {
   "cell_type": "code",
   "execution_count": 15,
   "metadata": {},
   "outputs": [
    {
     "name": "stderr",
     "output_type": "stream",
     "text": [
      "INFO:PharaGlow:Number of trajectories after linking: 8\n"
     ]
    }
   ],
   "source": [
    "#pred = tp.predict.NearestVelocityPredict()\n",
    "#trajectories = pred.link_df(features,param['searchRange'], memory = param['memory'])\n",
    "trajectories = tp.link_df(objects,param['searchRange'], memory = param['memory'])\n",
    "logger.info(f\"Number of trajectories after linking: {len(trajectories['particle'].unique())}\")"
   ]
  },
  {
   "cell_type": "code",
   "execution_count": 16,
   "metadata": {},
   "outputs": [],
   "source": [
    "# Delete the variable features to save memory\n",
    "del objects"
   ]
  },
  {
   "cell_type": "markdown",
   "metadata": {},
   "source": [
    "#### Show the trajectories"
   ]
  },
  {
   "cell_type": "code",
   "execution_count": 17,
   "metadata": {},
   "outputs": [
    {
     "data": {
      "image/png": "[encoded data removed]",
      "text/plain": [
       "<Figure size 576x576 with 1 Axes>"
      ]
     },
     "metadata": {
      "needs_background": "light"
     },
     "output_type": "display_data"
    }
   ],
   "source": [
    "plt.figure(figsize=(8,8))\n",
    "tp.plot_traj(trajectories, colorby = 'particle', superimpose=1-masks[t],label=False);"
   ]
  },
  {
   "cell_type": "code",
   "execution_count": 18,
   "metadata": {},
   "outputs": [
    {
     "name": "stderr",
     "output_type": "stream",
     "text": [
      "INFO:PharaGlow:Filtering out trajectories which last less than the minimal duration (600 frames)...\n",
      "INFO:PharaGlow:Nb of trajectories before filtering: 8\n",
      "INFO:PharaGlow:Nb of trajectories after filtering: 5\n"
     ]
    }
   ],
   "source": [
    "logger.info(f\"Filtering out trajectories which last less than the minimal duration ({param['minimalDuration']} frames)...\")\n",
    "logger.info(f\"Nb of trajectories before filtering: {trajectories['particle'].nunique()}\")\n",
    "\n",
    "trajectories = tp.filter_stubs(trajectories,param['minimalDuration'])\n",
    "logger.info(f\"Nb of trajectories after filtering: {trajectories['particle'].nunique()}\")"
   ]
  },
  {
   "cell_type": "code",
   "execution_count": 19,
   "metadata": {},
   "outputs": [
    {
     "data": {
      "image/png": "[encoded data removed]",
      "text/plain": [
       "<Figure size 576x576 with 1 Axes>"
      ]
     },
     "metadata": {
      "needs_background": "light"
     },
     "output_type": "display_data"
    },
    {
     "data": {
      "image/png": "[encoded data removed]",
      "text/plain": [
       "<Figure size 576x576 with 1 Axes>"
      ]
     },
     "metadata": {
      "needs_background": "light"
     },
     "output_type": "display_data"
    }
   ],
   "source": [
    "fig = plt.figure(figsize=(8,8))\n",
    "ax = tp.plot_traj(trajectories, colorby = 'particle', superimpose=1-masks[t],label=False);\n",
    "# save the pdf\n",
    "ax.set_title(f\"{movie}\", fontsize=24)\n",
    "fig.savefig(os.path.join(outPath,f'{date.today()}_{movie}_trajectories_filtered.pdf'))\n",
    "\n",
    "# with labels\n",
    "fig = plt.figure(figsize=(8,8))\n",
    "ax = tp.plot_traj(trajectories, colorby = 'particle', superimpose=1-masks[t],label=True);\n",
    "# save the pdf\n",
    "ax.set_title(f\"{movie}\", fontsize=24)\n",
    "fig.savefig(os.path.join(outPath,f'{date.today()}_{movie}_trajectories_filtered_labelled.pdf'))"
   ]
  },
  {
   "cell_type": "markdown",
   "metadata": {},
   "source": [
    "#### Save individual trajectories & add the missing images to interpolated trajectories\n",
    "\n",
    "Here we do multiple things: Add missing rows to the trajectory, create a separate image stack for each animal and save the trajectories."
   ]
  },
  {
   "cell_type": "markdown",
   "metadata": {},
   "source": [
    "#### Extract lawn info"
   ]
  },
  {
   "cell_type": "code",
   "execution_count": 20,
   "metadata": {},
   "outputs": [],
   "source": [
    "def inside(x,y,binLawn):\n",
    "    return binLawn[int(y), int(x)]\n",
    "\n",
    "if lawn is not None:\n",
    "    trajectories['inside'] = trajectories.apply(\\\n",
    "        lambda row: pd.Series(inside(row['x'], row['y'], binLawn)), axis=1)"
   ]
  },
  {
   "cell_type": "code",
   "execution_count": 21,
   "metadata": {},
   "outputs": [
    {
     "name": "stderr",
     "output_type": "stream",
     "text": [
      "INFO:PharaGlow:Saving 5 trajectories to separate files...\n",
      "INFO:PharaGlow:trajectories saved as json files (0.7889825999999402s)\n"
     ]
    }
   ],
   "source": [
    "logger.info(f\"Saving {trajectories['particle'].nunique()} trajectories to separate files...\")\n",
    "\n",
    "start = timeit.default_timer()\n",
    "\n",
    "for particle_index in trajectories['particle'].unique():\n",
    "    tmp = trajectories[trajectories.loc[:,'particle'] == particle_index].copy()\n",
    "    ims = images[tmp['im_idx']]\n",
    "    ims = np.array(ims, dtype = 'uint8')\n",
    "    # generate an interpolated trajectory where all frames are accounted for\n",
    "    traj_interp, ims_interp = tracking.interpolate_helper(rawframes, ims, tmp, param)\n",
    "    # save the new single worm movie\n",
    "    imsave(imfile.format('images', particle_index), np.array(ims_interp, dtype='uint8'))\n",
    "    # add some basic image properties\n",
    "    traj_interp = features.calculateImageproperties(traj_interp, ims_interp)\n",
    "    # save the trajectory\n",
    "    traj_interp.to_json(outfile.format('trajectories', int(particle_index)), orient='split')\n",
    "    \n",
    "stop = timeit.default_timer()\n",
    "logger.info(f\"trajectories saved as json files ({stop - start}s)\") \n",
    "\n"
   ]
  },
  {
   "cell_type": "markdown",
   "metadata": {},
   "source": [
    "## 3. Run the whole pharaglow feature extraction"
   ]
  },
  {
   "cell_type": "code",
   "execution_count": 22,
   "metadata": {
    "tags": []
   },
   "outputs": [
    {
     "name": "stderr",
     "output_type": "stream",
     "text": [
      "INFO:PharaGlow:Analyzing trajectory:demo_data_trajectories_0.json\n"
     ]
    },
    {
     "name": "stdout",
     "output_type": "stream",
     "text": [
      "Analyzing image 0 of 999\n",
      "Analyzing image 100 of 999\n",
      "Analyzing image 200 of 999\n",
      "Analyzing image 300 of 999\n",
      "Analyzing image 400 of 999\n",
      "Analyzing image 500 of 999\n",
      "Analyzing image 600 of 999\n",
      "Analyzing image 700 of 999\n",
      "Analyzing image 800 of 999\n",
      "Analyzing image 900 of 999\n",
      "<class 'pandas.core.frame.DataFrame'>\n",
      "Int64Index: 999 entries, 0 to 998\n",
      "Data columns (total 23 columns):\n",
      " #   Column        Non-Null Count  Dtype  \n",
      "---  ------        --------------  -----  \n",
      " 0   Centerline    999 non-null    object \n",
      " 1   Straightened  999 non-null    object \n",
      " 2   frame         999 non-null    int64  \n",
      " 3   Imax          999 non-null    uint8  \n",
      " 4   Imean         999 non-null    float64\n",
      " 5   Imedian       999 non-null    float64\n",
      " 6   Istd          999 non-null    float64\n",
      " 7   Area2         999 non-null    int64  \n",
      " 8   image_index   999 non-null    int64  \n",
      " 9   has_image     999 non-null    int64  \n",
      " 10  y             999 non-null    float64\n",
      " 11  x             999 non-null    float64\n",
      " 12  slice_y0      999 non-null    int64  \n",
      " 13  slice_y1      999 non-null    int64  \n",
      " 14  slice_x0      999 non-null    int64  \n",
      " 15  slice_x1      999 non-null    int64  \n",
      " 16  area          999 non-null    int64  \n",
      " 17  yw            999 non-null    float64\n",
      " 18  xw            999 non-null    float64\n",
      " 19  shapeY        999 non-null    int64  \n",
      " 20  shapeX        999 non-null    int64  \n",
      " 21  im_idx        999 non-null    int64  \n",
      " 22  particle      999 non-null    int64  \n",
      "dtypes: float64(7), int64(13), object(2), uint8(1)\n",
      "memory usage: 180.5+ KB\n",
      "None\n"
     ]
    },
    {
     "name": "stderr",
     "output_type": "stream",
     "text": [
      "C:\\ProgramData\\Anaconda3\\envs\\pumping\\lib\\site-packages\\numpy\\core\\fromnumeric.py:3335: RuntimeWarning: Mean of empty slice.\n",
      "  out=out, **kwargs)\n",
      "C:\\ProgramData\\Anaconda3\\envs\\pumping\\lib\\site-packages\\numpy\\core\\_methods.py:161: RuntimeWarning: invalid value encountered in double_scalars\n",
      "  ret = ret.dtype.type(ret / rcount)\n",
      "INFO:PharaGlow:Analyzing trajectory:demo_data_trajectories_1.json\n"
     ]
    },
    {
     "name": "stdout",
     "output_type": "stream",
     "text": [
      "Analyzing image 0 of 999\n",
      "Analyzing image 100 of 999\n",
      "Analyzing image 200 of 999\n",
      "Analyzing image 300 of 999\n",
      "Analyzing image 400 of 999\n",
      "Analyzing image 500 of 999\n",
      "Analyzing image 600 of 999\n",
      "Analyzing image 700 of 999\n",
      "Analyzing image 800 of 999\n",
      "Analyzing image 900 of 999\n",
      "<class 'pandas.core.frame.DataFrame'>\n",
      "Int64Index: 999 entries, 0 to 998\n",
      "Data columns (total 23 columns):\n",
      " #   Column        Non-Null Count  Dtype  \n",
      "---  ------        --------------  -----  \n",
      " 0   Centerline    999 non-null    object \n",
      " 1   Straightened  999 non-null    object \n",
      " 2   frame         999 non-null    int64  \n",
      " 3   Imax          999 non-null    uint8  \n",
      " 4   Imean         999 non-null    float64\n",
      " 5   Imedian       999 non-null    float64\n",
      " 6   Istd          999 non-null    float64\n",
      " 7   Area2         999 non-null    int64  \n",
      " 8   image_index   999 non-null    int64  \n",
      " 9   has_image     999 non-null    int64  \n",
      " 10  y             999 non-null    float64\n",
      " 11  x             999 non-null    float64\n",
      " 12  slice_y0      999 non-null    int64  \n",
      " 13  slice_y1      999 non-null    int64  \n",
      " 14  slice_x0      999 non-null    int64  \n",
      " 15  slice_x1      999 non-null    int64  \n",
      " 16  area          999 non-null    int64  \n",
      " 17  yw            999 non-null    float64\n",
      " 18  xw            999 non-null    float64\n",
      " 19  shapeY        999 non-null    int64  \n",
      " 20  shapeX        999 non-null    int64  \n",
      " 21  im_idx        999 non-null    int64  \n",
      " 22  particle      999 non-null    int64  \n",
      "dtypes: float64(7), int64(13), object(2), uint8(1)\n",
      "memory usage: 180.5+ KB\n",
      "None\n"
     ]
    },
    {
     "name": "stderr",
     "output_type": "stream",
     "text": [
      "INFO:PharaGlow:Analyzing trajectory:demo_data_trajectories_2.json\n"
     ]
    },
    {
     "name": "stdout",
     "output_type": "stream",
     "text": [
      "Analyzing image 0 of 791\n",
      "Analyzing image 100 of 791\n",
      "Analyzing image 200 of 791\n",
      "Analyzing image 300 of 791\n",
      "Analyzing image 400 of 791\n",
      "Analyzing image 500 of 791\n",
      "Analyzing image 600 of 791\n",
      "Analyzing image 700 of 791\n",
      "<class 'pandas.core.frame.DataFrame'>\n",
      "Int64Index: 791 entries, 0 to 790\n",
      "Data columns (total 23 columns):\n",
      " #   Column        Non-Null Count  Dtype  \n",
      "---  ------        --------------  -----  \n",
      " 0   Centerline    791 non-null    object \n",
      " 1   Straightened  791 non-null    object \n",
      " 2   frame         791 non-null    int64  \n",
      " 3   Imax          791 non-null    uint8  \n",
      " 4   Imean         791 non-null    float64\n",
      " 5   Imedian       791 non-null    float64\n",
      " 6   Istd          791 non-null    float64\n",
      " 7   Area2         791 non-null    int64  \n",
      " 8   image_index   791 non-null    int64  \n",
      " 9   has_image     791 non-null    int64  \n",
      " 10  y             791 non-null    float64\n",
      " 11  x             791 non-null    float64\n",
      " 12  slice_y0      791 non-null    int64  \n",
      " 13  slice_y1      791 non-null    int64  \n",
      " 14  slice_x0      791 non-null    int64  \n",
      " 15  slice_x1      791 non-null    int64  \n",
      " 16  area          791 non-null    int64  \n",
      " 17  yw            791 non-null    float64\n",
      " 18  xw            791 non-null    float64\n",
      " 19  shapeY        791 non-null    int64  \n",
      " 20  shapeX        791 non-null    int64  \n",
      " 21  im_idx        791 non-null    int64  \n",
      " 22  particle      791 non-null    int64  \n",
      "dtypes: float64(7), int64(13), object(2), uint8(1)\n",
      "memory usage: 142.9+ KB\n",
      "None\n"
     ]
    },
    {
     "name": "stderr",
     "output_type": "stream",
     "text": [
      "INFO:PharaGlow:Analyzing trajectory:demo_data_trajectories_4.json\n"
     ]
    },
    {
     "name": "stdout",
     "output_type": "stream",
     "text": [
      "Analyzing image 0 of 999\n",
      "Analyzing image 100 of 999\n",
      "Analyzing image 200 of 999\n",
      "Analyzing image 300 of 999\n",
      "Analyzing image 400 of 999\n",
      "Analyzing image 500 of 999\n",
      "Analyzing image 600 of 999\n",
      "Analyzing image 700 of 999\n",
      "Analyzing image 800 of 999\n",
      "Analyzing image 900 of 999\n",
      "<class 'pandas.core.frame.DataFrame'>\n",
      "Int64Index: 999 entries, 0 to 998\n",
      "Data columns (total 23 columns):\n",
      " #   Column        Non-Null Count  Dtype  \n",
      "---  ------        --------------  -----  \n",
      " 0   Centerline    999 non-null    object \n",
      " 1   Straightened  999 non-null    object \n",
      " 2   frame         999 non-null    int64  \n",
      " 3   Imax          999 non-null    uint8  \n",
      " 4   Imean         999 non-null    float64\n",
      " 5   Imedian       999 non-null    float64\n",
      " 6   Istd          999 non-null    float64\n",
      " 7   Area2         999 non-null    int64  \n",
      " 8   image_index   999 non-null    int64  \n",
      " 9   has_image     999 non-null    int64  \n",
      " 10  y             999 non-null    float64\n",
      " 11  x             999 non-null    float64\n",
      " 12  slice_y0      999 non-null    int64  \n",
      " 13  slice_y1      999 non-null    int64  \n",
      " 14  slice_x0      999 non-null    int64  \n",
      " 15  slice_x1      999 non-null    int64  \n",
      " 16  area          999 non-null    int64  \n",
      " 17  yw            999 non-null    float64\n",
      " 18  xw            999 non-null    float64\n",
      " 19  shapeY        999 non-null    int64  \n",
      " 20  shapeX        999 non-null    int64  \n",
      " 21  im_idx        999 non-null    int64  \n",
      " 22  particle      999 non-null    int64  \n",
      "dtypes: float64(7), int64(13), object(2), uint8(1)\n",
      "memory usage: 180.5+ KB\n",
      "None\n"
     ]
    },
    {
     "name": "stderr",
     "output_type": "stream",
     "text": [
      "INFO:PharaGlow:Analyzing trajectory:demo_data_trajectories_5.json\n"
     ]
    },
    {
     "name": "stdout",
     "output_type": "stream",
     "text": [
      "Analyzing image 0 of 796\n",
      "Analyzing image 100 of 796\n",
      "Analyzing image 200 of 796\n",
      "Analyzing image 300 of 796\n",
      "Analyzing image 400 of 796\n",
      "Analyzing image 500 of 796\n",
      "Analyzing image 600 of 796\n",
      "Analyzing image 700 of 796\n",
      "<class 'pandas.core.frame.DataFrame'>\n",
      "Int64Index: 796 entries, 0 to 795\n",
      "Data columns (total 23 columns):\n",
      " #   Column        Non-Null Count  Dtype  \n",
      "---  ------        --------------  -----  \n",
      " 0   Centerline    796 non-null    object \n",
      " 1   Straightened  796 non-null    object \n",
      " 2   frame         796 non-null    int64  \n",
      " 3   Imax          796 non-null    uint8  \n",
      " 4   Imean         796 non-null    float64\n",
      " 5   Imedian       796 non-null    float64\n",
      " 6   Istd          796 non-null    float64\n",
      " 7   Area2         796 non-null    int64  \n",
      " 8   image_index   796 non-null    int64  \n",
      " 9   has_image     796 non-null    int64  \n",
      " 10  y             796 non-null    float64\n",
      " 11  x             796 non-null    float64\n",
      " 12  slice_y0      796 non-null    int64  \n",
      " 13  slice_y1      796 non-null    int64  \n",
      " 14  slice_x0      796 non-null    int64  \n",
      " 15  slice_x1      796 non-null    int64  \n",
      " 16  area          796 non-null    int64  \n",
      " 17  yw            796 non-null    float64\n",
      " 18  xw            796 non-null    float64\n",
      " 19  shapeY        796 non-null    int64  \n",
      " 20  shapeX        796 non-null    int64  \n",
      " 21  im_idx        796 non-null    int64  \n",
      " 22  particle      796 non-null    int64  \n",
      "dtypes: float64(7), int64(13), object(2), uint8(1)\n",
      "memory usage: 143.8+ KB\n",
      "None\n"
     ]
    },
    {
     "name": "stderr",
     "output_type": "stream",
     "text": [
      "INFO:PharaGlow:minimal information saved\n",
      "INFO:PharaGlow:Whole pharaglow features extracted (1059.359258s)\n"
     ]
    }
   ],
   "source": [
    "start = timeit.default_timer()\n",
    "# save only minimal outputs - reduces save by approx factor 3\n",
    "\n",
    "# analyze all trajectories\n",
    "for fn in os.listdir(outPath):\n",
    "    file = os.path.join(outPath,fn)\n",
    "    \n",
    "    if os.path.isfile(file) and f'{movie}_trajectories_' in fn and fn.endswith('.json'):\n",
    "        particle_index = int(fn.split('.')[0].split('_')[-1])\n",
    "        traj =  io.load(file, orient='split')\n",
    "        # load images\n",
    "        images = pims.open(imfile.format('images', particle_index))\n",
    "        if len(traj.index)<1:\n",
    "            print('Skipped', file)\n",
    "            continue\n",
    "        logger.info('Analyzing trajectory:%s', fn)\n",
    "        \n",
    "        tmp,_ = util.parallel_analysis((images,), param,\\\n",
    "                          parallelWorker= run.parallel_pharaglow_run, framenumbers = traj['frame'], nWorkers = nWorkers, output= None)\n",
    "        # remove some columns to make the result smaller\n",
    "        if save_minimal:\n",
    "            tmp = tmp.drop(['Mask', 'SkeletonX', 'SkeletonY', 'ParX', 'ParY', \n",
    "                            'Xstart', 'Xend', 'dCl', 'Widths', 'Contour', 'Gradient', \n",
    "                            'Kymo', 'KymoGrad', 'Similarity', 'Xtmp'], axis = 1, errors = 'ignore')\n",
    "        # add the basic tracker info - you can also keep these as separate files\n",
    "        tmp = tmp.merge(traj, on='frame', how = 'outer')\n",
    "        # drop nans to allow post processing\n",
    "        tmp = tmp.dropna(how='all')\n",
    "        tmp = tmp[tmp['Straightened'].notna()]\n",
    "        print(tmp.info())\n",
    "        # run some stuff on the whole dataframe.\n",
    "        run.pharynxorientation(tmp)\n",
    "        # extract pumps\n",
    "        tmp[['pumps']] = tmp.apply(\\\n",
    "        lambda row: pd.Series(features.extractPump(row['Straightened'])), axis=1)\n",
    "        # get more exact entry location\n",
    "        if lawn is not None:\n",
    "            tmp['insideHead'] = tmp.apply(\\\n",
    "                lambda row: pd.Series(features.headLocationLawn(row['Centerline'],row['slice'], binLawn)), axis=1)\n",
    "            tmp['insideHeadIntensity'] = tmp.apply(\\\n",
    "                lambda row: pd.Series(features.headLocationLawn(row['Centerline'],row['slice'], lawn)), axis=1)\n",
    "        \n",
    "        tmp.to_json(outfile.format('results', particle_index), orient='split')\n",
    "        \n",
    "if save_minimal:\n",
    "    logger.info('minimal information saved')\n",
    "    \n",
    "stop = timeit.default_timer()\n",
    "logger.info(f\"Whole pharaglow features extracted ({stop - start}s)\")  "
   ]
  },
  {
   "cell_type": "markdown",
   "metadata": {},
   "source": [
    "#### Check if data has been analyzed"
   ]
  },
  {
   "cell_type": "code",
   "execution_count": 23,
   "metadata": {},
   "outputs": [
    {
     "name": "stderr",
     "output_type": "stream",
     "text": [
      "INFO:PharaGlow:trajectories.json files: 5 \n",
      "INFO:PharaGlow:results.json files: 5 \n"
     ]
    }
   ],
   "source": [
    "# Files monitoring\n",
    "files_list = os.listdir(outPath)\n",
    "f1 =[]\n",
    "f2 =[]\n",
    "\n",
    "path = os.path.dirname(outfile)\n",
    "\n",
    "for fn in files_list:\n",
    "    file = os.path.join(path,fn)\n",
    "    if os.path.isfile(file) and f'{movie}_trajectories_' in fn  and fn.endswith('.json'):\n",
    "        if not 'all' in fn: \n",
    "            particle_index = int(fn.split('.')[0].split('_')[-1])\n",
    "            f1.append(particle_index)\n",
    "    if os.path.isfile(file) and f'{movie}_results_' in fn and fn.endswith('.json'): \n",
    "        particle_index = int(fn.split('.')[0].split('_')[-1])\n",
    "        f2.append(particle_index)\n",
    "\n",
    "logger.info('trajectories.json files: %s ', len(f1))\n",
    "logger.info('results.json files: %s ', len(f2))\n",
    "if len(f1) != len(f2):\n",
    "    logger.warning('trajectories - results: %s', set(f1).symmetric_difference(set(f2)))"
   ]
  },
  {
   "cell_type": "code",
   "execution_count": 24,
   "metadata": {},
   "outputs": [
    {
     "name": "stderr",
     "output_type": "stream",
     "text": [
      "INFO:PharaGlow:PharaGlow ends here\n"
     ]
    }
   ],
   "source": [
    "logger.info(\"PharaGlow ends here\")"
   ]
  },
  {
   "cell_type": "code",
   "execution_count": null,
   "metadata": {},
   "outputs": [],
   "source": []
  }
 ],
 "metadata": {
  "kernelspec": {
   "display_name": "Python 3",
   "language": "python",
   "name": "python3"
  },
  "language_info": {
   "codemirror_mode": {
    "name": "ipython",
    "version": 3
   },
   "file_extension": ".py",
   "mimetype": "text/x-python",
   "name": "python",
   "nbconvert_exporter": "python",
   "pygments_lexer": "ipython3",
   "version": "3.7.12"
  }
 },
 "nbformat": 4,
 "nbformat_minor": 4
}
